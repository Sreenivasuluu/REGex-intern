{
 "cells": [
  {
   "cell_type": "markdown",
   "id": "87a5bed7",
   "metadata": {},
   "source": [
    "# Task-1"
   ]
  },
  {
   "cell_type": "markdown",
   "id": "d0f99b90",
   "metadata": {},
   "source": [
    "### Write a function which takes a list and a number as arguments. The function returns true if the number is present in the list otherwise false."
   ]
  },
  {
   "cell_type": "code",
   "execution_count": 1,
   "id": "04bf26e3",
   "metadata": {},
   "outputs": [
    {
     "name": "stdout",
     "output_type": "stream",
     "text": [
      "False\n",
      "True\n",
      "False\n"
     ]
    }
   ],
   "source": [
    "def check_num(lst:list,num):\n",
    "    return num in lst\n",
    "\n",
    "print(check_num([1,2,3,4,5],6))\n",
    "print(check_num([1,2,3,4,5],3))\n",
    "\n",
    "\n",
    "q=[12,34,56,78,90]\n",
    "w=45\n",
    "print(check_num(q,w))"
   ]
  },
  {
   "cell_type": "markdown",
   "id": "e1e8f93b",
   "metadata": {},
   "source": [
    "# Task-2"
   ]
  },
  {
   "cell_type": "markdown",
   "id": "3c2523c7",
   "metadata": {},
   "source": [
    "### Write a function which takes a list of numbers as arguments. The function returns a list of same length with Boolean values. True for numbers in the list which are prime False otherwise. (Other helping functions can be created)."
   ]
  },
  {
   "cell_type": "code",
   "execution_count": 2,
   "id": "402036ac",
   "metadata": {},
   "outputs": [
    {
     "name": "stdout",
     "output_type": "stream",
     "text": [
      "[False, False, False, False]\n",
      "[True, True, True, True, True, True]\n",
      "[True, False, False, True]\n"
     ]
    }
   ],
   "source": [
    "def list_is_prime(ls:list):\n",
    "    def is_prime(n):\n",
    "        if n>1:\n",
    "            for i in range(2,int(n**(1/2))+1):\n",
    "                if n%i==0:\n",
    "                    return False\n",
    "            else:\n",
    "                return True\n",
    "        else:\n",
    "            return False\n",
    "    \n",
    "    return list(map(is_prime,ls))\n",
    "\n",
    "print(list_is_prime([222,4,44,99]))\n",
    "print(list_is_prime([2,3,5,7,11,13]))\n",
    "\n",
    "\n",
    "X=[2,4,6,7]\n",
    "print(list_is_prime(X))"
   ]
  },
  {
   "cell_type": "markdown",
   "id": "1aa71327",
   "metadata": {},
   "source": [
    "# Task-3"
   ]
  },
  {
   "cell_type": "markdown",
   "id": "7ffa4444",
   "metadata": {},
   "source": [
    "### Write a function which takes a list and an integer as argument. The function should return True if there is any pair of two consecutive numbers whose sum equals the integer (passed in the argument) otherwise False."
   ]
  },
  {
   "cell_type": "code",
   "execution_count": 3,
   "id": "4fea7f2b",
   "metadata": {},
   "outputs": [
    {
     "name": "stdout",
     "output_type": "stream",
     "text": [
      "True\n",
      "False\n",
      "True\n"
     ]
    }
   ],
   "source": [
    "def sum_consec(l:list,x):\n",
    "    for j in range(len(l)-1):\n",
    "        if l[j]+l[j+1]==x:\n",
    "            return True\n",
    "    else:\n",
    "        return False\n",
    "\n",
    "print(sum_consec([1,2,3,4,5,6],7))\n",
    "print(sum_consec([1,2,3,4,5,6],10))\n",
    "\n",
    "\n",
    "R=[12,34,56,78,90,34,67,89]\n",
    "y=124\n",
    "print(sum_consec(R,y))"
   ]
  },
  {
   "cell_type": "markdown",
   "id": "9c28c2d3",
   "metadata": {},
   "source": [
    "# Task-4"
   ]
  },
  {
   "cell_type": "markdown",
   "id": "9d34c106",
   "metadata": {},
   "source": [
    "### Given two strings of equal length containing alphabet characters only, write a function which calculates the distance between these two strings. The distance can be calculated in following manner : +2 for same letter at a given position, -1 for a different letter at a given position."
   ]
  },
  {
   "cell_type": "code",
   "execution_count": 4,
   "id": "7725473d",
   "metadata": {},
   "outputs": [
    {
     "name": "stdout",
     "output_type": "stream",
     "text": [
      "Distance between two strings is -2\n",
      "Enter equal length strings\n",
      "Enter alphabet characters only\n",
      "Distance between two strings is 10\n",
      "Distance between two strings is 10\n"
     ]
    }
   ],
   "source": [
    "def dist_string(str1:str,str2:str):\n",
    "    if len(str1)!=len(str2):\n",
    "        return \"Enter equal length strings\"\n",
    "    if str1.isalpha() and str2.isalpha():\n",
    "        dist=0\n",
    "        for k in range(len(str1)):\n",
    "            if str1.lower()[k]==str2.lower()[k]:\n",
    "                dist+=2\n",
    "            else:\n",
    "                dist-=1\n",
    "        return f\"Distance between two strings is {dist}\"\n",
    "    else:\n",
    "        return \"Enter alphabet characters only\"\n",
    "    \n",
    "\n",
    "print(dist_string(\"asdfd\",\"fddsa\"))\n",
    "\n",
    "print(dist_string(\"asdfd\",\"fdds\"))\n",
    "\n",
    "print(dist_string(\"asdfd\",\"fdds1\"))\n",
    "\n",
    "print(dist_string(\"asdfd\",\"asdfd\"))\n",
    "\n",
    "print(dist_string(\"asdfd\",\"ASDfd\"))  # no case sensitive for better results"
   ]
  },
  {
   "cell_type": "code",
   "execution_count": null,
   "id": "4d56fa5d",
   "metadata": {},
   "outputs": [],
   "source": []
  }
 ],
 "metadata": {
  "kernelspec": {
   "display_name": "Python 3",
   "language": "python",
   "name": "python3"
  },
  "language_info": {
   "codemirror_mode": {
    "name": "ipython",
    "version": 3
   },
   "file_extension": ".py",
   "mimetype": "text/x-python",
   "name": "python",
   "nbconvert_exporter": "python",
   "pygments_lexer": "ipython3",
   "version": "3.8.8"
  }
 },
 "nbformat": 4,
 "nbformat_minor": 5
}
