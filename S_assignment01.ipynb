{
 "cells": [
  {
   "cell_type": "code",
   "execution_count": 2,
   "id": "44847406",
   "metadata": {},
   "outputs": [
    {
     "name": "stdout",
     "output_type": "stream",
     "text": [
      "220\n",
      "-130\n",
      "7087500\n",
      "0.00028571428571428574\n"
     ]
    }
   ],
   "source": [
    "# assigning values to the variables \n",
    "\n",
    "a = 45\n",
    "b = 35\n",
    "c = 50\n",
    "d = 90\n",
    "\n",
    "# doing basic arithmetic operations \\n",
    "\n",
    "add = a+b+c+d\n",
    "minus = a-b-c-d\n",
    "multiply = a*b*c*d\n",
    "divide = a/b/c/d\n",
    "\n",
    "# printing the calculations\n",
    "\n",
    "print(add) \n",
    "print(minus)\n",
    "print(multiply)\n",
    "print(divide)"
   ]
  },
  {
   "cell_type": "code",
   "execution_count": null,
   "id": "5fe555b2",
   "metadata": {},
   "outputs": [],
   "source": []
  }
 ],
 "metadata": {
  "kernelspec": {
   "display_name": "Python 3",
   "language": "python",
   "name": "python3"
  },
  "language_info": {
   "codemirror_mode": {
    "name": "ipython",
    "version": 3
   },
   "file_extension": ".py",
   "mimetype": "text/x-python",
   "name": "python",
   "nbconvert_exporter": "python",
   "pygments_lexer": "ipython3",
   "version": "3.8.8"
  }
 },
 "nbformat": 4,
 "nbformat_minor": 5
}
