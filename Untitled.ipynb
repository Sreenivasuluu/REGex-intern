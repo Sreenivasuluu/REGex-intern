{
 "cells": [
  {
   "cell_type": "markdown",
   "id": "8587d8e9",
   "metadata": {},
   "source": [
    "# Task 1"
   ]
  },
  {
   "cell_type": "markdown",
   "id": "ad262117",
   "metadata": {},
   "source": [
    "# Program for Password validation"
   ]
  },
  {
   "cell_type": "code",
   "execution_count": 1,
   "id": "330e3d0a",
   "metadata": {},
   "outputs": [
    {
     "name": "stdout",
     "output_type": "stream",
     "text": [
      "Enter your password :\n",
      "sdasM@@2\n",
      "Your Password is accepted \n"
     ]
    }
   ],
   "source": [
    "l=u=p=d=0\n",
    "s = input('Enter your password :\\n')\n",
    "if (16 >= len(s) >= 5):\n",
    "    for i in s:\n",
    "        if (i.islower()):\n",
    "            l+=1 \n",
    "        if (i.isupper()):\n",
    "            u+=1    \n",
    "        if (i.isdigit()):\n",
    "            d+=1     \n",
    "        if(i=='@'or i=='$' or i=='#' or i =='&'):\n",
    "            p+=1           \n",
    "if (l>=1 and u>=1 and p>=1 and d>=1 and l+p+u+d==len(s)):\n",
    "    print(\"Your Password is accepted \")\n",
    "else:\n",
    "    print(\"Invalid Password,Try another one.\")\n"
   ]
  },
  {
   "cell_type": "markdown",
   "id": "e9ab34e5",
   "metadata": {},
   "source": [
    "# Task-2"
   ]
  },
  {
   "cell_type": "markdown",
   "id": "371b48ae",
   "metadata": {},
   "source": [
    "# Program for checking polindrome without SLICING"
   ]
  },
  {
   "cell_type": "code",
   "execution_count": 2,
   "id": "77cf1cba",
   "metadata": {},
   "outputs": [
    {
     "name": "stdout",
     "output_type": "stream",
     "text": [
      "Enter a word : \n",
      "\n",
      "Your word is a Polindrome\n"
     ]
    }
   ],
   "source": [
    "p = input('Enter a word : \\n').upper().strip()\n",
    "pas = 0\n",
    "l = len(p) // 2\n",
    "for i in range(l):\n",
    "    if p[i] == p[-i - 1]:\n",
    "        pas += 1\n",
    "if pas == l:\n",
    "    print('Your word is a Polindrome')\n",
    "else:\n",
    "    print('NOt a Polindrome')     "
   ]
  },
  {
   "cell_type": "markdown",
   "id": "6f06b4f7",
   "metadata": {},
   "source": [
    "# Task-3"
   ]
  },
  {
   "cell_type": "markdown",
   "id": "3640d8ad",
   "metadata": {},
   "source": [
    "# Program for checking Polindrome with SLICING"
   ]
  },
  {
   "cell_type": "code",
   "execution_count": 3,
   "id": "be9b531c",
   "metadata": {},
   "outputs": [
    {
     "name": "stdout",
     "output_type": "stream",
     "text": [
      "Enter a word : \n",
      "dbwdhjM@2\n",
      "NOt a Polindrome\n"
     ]
    }
   ],
   "source": [
    "p = input('Enter a word : \\n').upper().strip()\n",
    "if p == p[-1::-1]:\n",
    "    print('Your word is a Polindrome')\n",
    "else:\n",
    "    print('NOt a Polindrome')"
   ]
  },
  {
   "cell_type": "code",
   "execution_count": null,
   "id": "bc2b167b",
   "metadata": {},
   "outputs": [],
   "source": []
  }
 ],
 "metadata": {
  "kernelspec": {
   "display_name": "Python 3",
   "language": "python",
   "name": "python3"
  },
  "language_info": {
   "codemirror_mode": {
    "name": "ipython",
    "version": 3
   },
   "file_extension": ".py",
   "mimetype": "text/x-python",
   "name": "python",
   "nbconvert_exporter": "python",
   "pygments_lexer": "ipython3",
   "version": "3.8.8"
  }
 },
 "nbformat": 4,
 "nbformat_minor": 5
}
