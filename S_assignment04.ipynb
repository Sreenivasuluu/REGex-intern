{
 "cells": [
  {
   "cell_type": "code",
   "execution_count": 20,
   "id": "101d1a37",
   "metadata": {},
   "outputs": [
    {
     "name": "stdout",
     "output_type": "stream",
     "text": [
      "PYTHON IS OOPS LANGUAGE\n",
      "               I'M PYTHON DEVELOPER\n",
      "                     I LOVE PYTHON\n"
     ]
    }
   ],
   "source": [
    "# Task-1 using replace function\n",
    "\n",
    "# INITIATING THE STRING\n",
    "\n",
    "str = \"\"\"JAVA IS OOPS LANGUAGE\n",
    "               I'M JAVA DEVELOPER\n",
    "                     I LOVE JAVA\"\"\"\n",
    "\n",
    "#REPLACING THE JAVA WITH PYTHON AND PRINTING IT\n",
    "\n",
    "print(str.replace('JAVA','PYTHON'))"
   ]
  },
  {
   "cell_type": "code",
   "execution_count": 21,
   "id": "074c76b4",
   "metadata": {},
   "outputs": [
    {
     "name": "stdout",
     "output_type": "stream",
     "text": [
      "True\n"
     ]
    }
   ],
   "source": [
    "# Task-2 to check the data type in the string\n",
    "\n",
    "\n",
    "\n",
    "#INITIATING THE STRING WITH FLOAT NUMBER\n",
    "\n",
    "str1 = '21.47'\n",
    "\n",
    "#REPLACING THE DECIMAL POINTAND CHECKING THE TYPE OF DATA\n",
    "\n",
    "print(str1.replace('.','',1).isnumeric())\n"
   ]
  },
  {
   "cell_type": "code",
   "execution_count": 22,
   "id": "093f541a",
   "metadata": {},
   "outputs": [
    {
     "name": "stdout",
     "output_type": "stream",
     "text": [
      "7\n"
     ]
    }
   ],
   "source": [
    "#Task-3 to find the no.of digits in the given string\n",
    "\n",
    "\n",
    "#INITIATING THE STRING WITH COMBINATION OF ALPHABET AND DIGIT\n",
    "\n",
    "str2 = 'ABC1234589'\n",
    "\n",
    "# simmple code for counting the no.of digits \n",
    "c = 0\n",
    "for i in range(len(str2)):\n",
    "    if str2[i].isdigit():\n",
    "        c += 1\n",
    "        \n",
    "#printing the no.of digits in the string\n",
    "print(c) "
   ]
  },
  {
   "cell_type": "code",
   "execution_count": null,
   "id": "76ace9e3",
   "metadata": {},
   "outputs": [],
   "source": []
  }
 ],
 "metadata": {
  "kernelspec": {
   "display_name": "Python 3",
   "language": "python",
   "name": "python3"
  },
  "language_info": {
   "codemirror_mode": {
    "name": "ipython",
    "version": 3
   },
   "file_extension": ".py",
   "mimetype": "text/x-python",
   "name": "python",
   "nbconvert_exporter": "python",
   "pygments_lexer": "ipython3",
   "version": "3.8.8"
  }
 },
 "nbformat": 4,
 "nbformat_minor": 5
}
