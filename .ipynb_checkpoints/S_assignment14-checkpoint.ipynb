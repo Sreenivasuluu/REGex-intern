{
 "cells": [
  {
   "cell_type": "markdown",
   "id": "a4e48f7a",
   "metadata": {},
   "source": [
    "# Task-1"
   ]
  },
  {
   "cell_type": "markdown",
   "id": "27398c82",
   "metadata": {},
   "source": [
    "### Take any value from the user, print “odd” if the value entered is odd and print “even” otherwise."
   ]
  },
  {
   "cell_type": "code",
   "execution_count": 1,
   "id": "b386ee07",
   "metadata": {},
   "outputs": [
    {
     "ename": "KeyboardInterrupt",
     "evalue": "Interrupted by user",
     "output_type": "error",
     "traceback": [
      "\u001b[1;31m---------------------------------------------------------------------------\u001b[0m",
      "\u001b[1;31mKeyboardInterrupt\u001b[0m                         Traceback (most recent call last)",
      "\u001b[1;32m<ipython-input-1-40c31433e5a5>\u001b[0m in \u001b[0;36m<module>\u001b[1;34m\u001b[0m\n\u001b[0;32m     10\u001b[0m \u001b[1;33m\u001b[0m\u001b[0m\n\u001b[0;32m     11\u001b[0m \u001b[1;33m\u001b[0m\u001b[0m\n\u001b[1;32m---> 12\u001b[1;33m \u001b[0mcheck_odd\u001b[0m\u001b[1;33m(\u001b[0m\u001b[1;33m)\u001b[0m\u001b[1;33m\u001b[0m\u001b[1;33m\u001b[0m\u001b[0m\n\u001b[0m\u001b[0;32m     13\u001b[0m \u001b[1;33m\u001b[0m\u001b[0m\n\u001b[0;32m     14\u001b[0m \u001b[0mcheck_odd\u001b[0m\u001b[1;33m(\u001b[0m\u001b[1;33m)\u001b[0m\u001b[1;33m\u001b[0m\u001b[1;33m\u001b[0m\u001b[0m\n",
      "\u001b[1;32m<ipython-input-1-40c31433e5a5>\u001b[0m in \u001b[0;36mcheck_odd\u001b[1;34m()\u001b[0m\n\u001b[0;32m      1\u001b[0m \u001b[1;32mdef\u001b[0m \u001b[0mcheck_odd\u001b[0m\u001b[1;33m(\u001b[0m\u001b[1;33m)\u001b[0m\u001b[1;33m:\u001b[0m\u001b[1;33m\u001b[0m\u001b[1;33m\u001b[0m\u001b[0m\n\u001b[1;32m----> 2\u001b[1;33m     \u001b[0mn\u001b[0m\u001b[1;33m=\u001b[0m\u001b[0minput\u001b[0m\u001b[1;33m(\u001b[0m\u001b[1;34m\"Enter a number:\"\u001b[0m\u001b[1;33m)\u001b[0m\u001b[1;33m\u001b[0m\u001b[1;33m\u001b[0m\u001b[0m\n\u001b[0m\u001b[0;32m      3\u001b[0m     \u001b[1;32mif\u001b[0m \u001b[0mn\u001b[0m\u001b[1;33m.\u001b[0m\u001b[0misdigit\u001b[0m\u001b[1;33m(\u001b[0m\u001b[1;33m)\u001b[0m\u001b[1;33m:\u001b[0m\u001b[1;33m\u001b[0m\u001b[1;33m\u001b[0m\u001b[0m\n\u001b[0;32m      4\u001b[0m         \u001b[1;32mif\u001b[0m \u001b[0mint\u001b[0m\u001b[1;33m(\u001b[0m\u001b[0mn\u001b[0m\u001b[1;33m)\u001b[0m\u001b[1;33m%\u001b[0m\u001b[1;36m2\u001b[0m\u001b[1;33m==\u001b[0m\u001b[1;36m0\u001b[0m\u001b[1;33m:\u001b[0m\u001b[1;33m\u001b[0m\u001b[1;33m\u001b[0m\u001b[0m\n\u001b[0;32m      5\u001b[0m             \u001b[0mprint\u001b[0m\u001b[1;33m(\u001b[0m\u001b[1;34m\"Given number is EVEN\"\u001b[0m\u001b[1;33m)\u001b[0m\u001b[1;33m\u001b[0m\u001b[1;33m\u001b[0m\u001b[0m\n",
      "\u001b[1;32m~\\anaconda3\\lib\\site-packages\\ipykernel\\kernelbase.py\u001b[0m in \u001b[0;36mraw_input\u001b[1;34m(self, prompt)\u001b[0m\n\u001b[0;32m    858\u001b[0m                 \u001b[1;34m\"raw_input was called, but this frontend does not support input requests.\"\u001b[0m\u001b[1;33m\u001b[0m\u001b[1;33m\u001b[0m\u001b[0m\n\u001b[0;32m    859\u001b[0m             )\n\u001b[1;32m--> 860\u001b[1;33m         return self._input_request(str(prompt),\n\u001b[0m\u001b[0;32m    861\u001b[0m             \u001b[0mself\u001b[0m\u001b[1;33m.\u001b[0m\u001b[0m_parent_ident\u001b[0m\u001b[1;33m,\u001b[0m\u001b[1;33m\u001b[0m\u001b[1;33m\u001b[0m\u001b[0m\n\u001b[0;32m    862\u001b[0m             \u001b[0mself\u001b[0m\u001b[1;33m.\u001b[0m\u001b[0m_parent_header\u001b[0m\u001b[1;33m,\u001b[0m\u001b[1;33m\u001b[0m\u001b[1;33m\u001b[0m\u001b[0m\n",
      "\u001b[1;32m~\\anaconda3\\lib\\site-packages\\ipykernel\\kernelbase.py\u001b[0m in \u001b[0;36m_input_request\u001b[1;34m(self, prompt, ident, parent, password)\u001b[0m\n\u001b[0;32m    902\u001b[0m             \u001b[1;32mexcept\u001b[0m \u001b[0mKeyboardInterrupt\u001b[0m\u001b[1;33m:\u001b[0m\u001b[1;33m\u001b[0m\u001b[1;33m\u001b[0m\u001b[0m\n\u001b[0;32m    903\u001b[0m                 \u001b[1;31m# re-raise KeyboardInterrupt, to truncate traceback\u001b[0m\u001b[1;33m\u001b[0m\u001b[1;33m\u001b[0m\u001b[1;33m\u001b[0m\u001b[0m\n\u001b[1;32m--> 904\u001b[1;33m                 \u001b[1;32mraise\u001b[0m \u001b[0mKeyboardInterrupt\u001b[0m\u001b[1;33m(\u001b[0m\u001b[1;34m\"Interrupted by user\"\u001b[0m\u001b[1;33m)\u001b[0m \u001b[1;32mfrom\u001b[0m \u001b[1;32mNone\u001b[0m\u001b[1;33m\u001b[0m\u001b[1;33m\u001b[0m\u001b[0m\n\u001b[0m\u001b[0;32m    905\u001b[0m             \u001b[1;32mexcept\u001b[0m \u001b[0mException\u001b[0m \u001b[1;32mas\u001b[0m \u001b[0me\u001b[0m\u001b[1;33m:\u001b[0m\u001b[1;33m\u001b[0m\u001b[1;33m\u001b[0m\u001b[0m\n\u001b[0;32m    906\u001b[0m                 \u001b[0mself\u001b[0m\u001b[1;33m.\u001b[0m\u001b[0mlog\u001b[0m\u001b[1;33m.\u001b[0m\u001b[0mwarning\u001b[0m\u001b[1;33m(\u001b[0m\u001b[1;34m\"Invalid Message:\"\u001b[0m\u001b[1;33m,\u001b[0m \u001b[0mexc_info\u001b[0m\u001b[1;33m=\u001b[0m\u001b[1;32mTrue\u001b[0m\u001b[1;33m)\u001b[0m\u001b[1;33m\u001b[0m\u001b[1;33m\u001b[0m\u001b[0m\n",
      "\u001b[1;31mKeyboardInterrupt\u001b[0m: Interrupted by user"
     ]
    }
   ],
   "source": [
    "def check_odd():\n",
    "    n=input(\"Enter a number:\")\n",
    "    if n.isdigit():\n",
    "        if int(n)%2==0:\n",
    "            print(\"Given number is EVEN\")\n",
    "        else:\n",
    "            print(\"Given number is ODD\")\n",
    "    else:\n",
    "        print(\"Enter numbers only\")\n",
    "\n",
    "\n",
    "check_odd()\n",
    "\n",
    "check_odd()\n",
    "\n",
    "check_odd()"
   ]
  },
  {
   "cell_type": "markdown",
   "id": "43a65ea1",
   "metadata": {},
   "source": [
    "# Task-2"
   ]
  },
  {
   "cell_type": "markdown",
   "id": "2a176c68",
   "metadata": {},
   "source": [
    "### Take input from the user and check if the number is a complex number. a complex number is the sum of a real number and an imaginary number. For example: 5+2i"
   ]
  },
  {
   "cell_type": "code",
   "execution_count": null,
   "id": "01560581",
   "metadata": {},
   "outputs": [],
   "source": [
    "import numpy as np\n",
    "def check_complex():\n",
    "    c=input(\"Enter a complex number:\")\n",
    "    if np.iscomplex(eval(c)):\n",
    "        print(\"\\nGiven number is a complex number\")\n",
    "    else:\n",
    "        print(\"\\nGiven number is not a complex number\")\n",
    "\n",
    "check_complex()\n",
    "check_complex()\n",
    "check_complex()\n",
    "check_complex()\n",
    "    \n"
   ]
  },
  {
   "cell_type": "markdown",
   "id": "62a31fd1",
   "metadata": {},
   "source": [
    "# Task-3"
   ]
  },
  {
   "cell_type": "markdown",
   "id": "881155f7",
   "metadata": {},
   "source": [
    "### Create a program to enter marks from the user out of 100 and display grades as per the following 90-100 (A), 75 to 90 (B), 60 to 75 (C), 45 to 60 (D), 33 to 45 (E) and remaining all are F."
   ]
  },
  {
   "cell_type": "code",
   "execution_count": null,
   "id": "ab06b891",
   "metadata": {},
   "outputs": [],
   "source": [
    "def mark_grade():\n",
    "    i=int(eval(input(\"Enter marks: \")))\n",
    "    if i>100:\n",
    "        print(\"Enter marks out of '100' only\")\n",
    "    elif 100>=i>=90:\n",
    "        print(\"Grade: 'A'\")\n",
    "    elif 90>i>=75:\n",
    "        print(\"Grade: 'B'\")\n",
    "    elif 75>i>=60:\n",
    "        print(\"Grade: 'C'\")\n",
    "    elif 60>i>=45:\n",
    "        print(\"Grade: 'D'\")\n",
    "    elif 45>i>=33:\n",
    "        print(\"Grade: 'E'\")\n",
    "    else:\n",
    "        print(\"Grade: 'F'\")\n",
    "        \n",
    "mark_grade()\n",
    "mark_grade()\n",
    "mark_grade()\n",
    "mark_grade()"
   ]
  },
  {
   "cell_type": "markdown",
   "id": "69d01508",
   "metadata": {},
   "source": [
    "# Task-4"
   ]
  },
  {
   "cell_type": "markdown",
   "id": "8fb5e4c3",
   "metadata": {},
   "source": [
    "### Say three integers have been given. Determine how many of them are equal to each other. Create a program to print 3 (if all 3 are same), 2 (if 2 are same) and 0 (if all numbers are different)"
   ]
  },
  {
   "cell_type": "code",
   "execution_count": null,
   "id": "e2c11cdc",
   "metadata": {},
   "outputs": [],
   "source": [
    "def equal_no():\n",
    "    n1=int(eval(input(\"Enter your 1st integer:\")))\n",
    "    n2=int(eval(input(\"Enter your 2nd integer:\")))\n",
    "    n3=int(eval(input(\"Enter your 3rd integer:\")))\n",
    "    if n1==n2==n3:\n",
    "        print('3')\n",
    "    elif n1==n2 or n2==n3 or n3==n1:\n",
    "        print('2')\n",
    "    else:\n",
    "        print('0')"
   ]
  },
  {
   "cell_type": "code",
   "execution_count": null,
   "id": "920240e6",
   "metadata": {},
   "outputs": [],
   "source": [
    "equal_no()"
   ]
  },
  {
   "cell_type": "code",
   "execution_count": null,
   "id": "eeb05d4f",
   "metadata": {},
   "outputs": [],
   "source": [
    "equal_no()"
   ]
  },
  {
   "cell_type": "code",
   "execution_count": null,
   "id": "6fae5321",
   "metadata": {},
   "outputs": [],
   "source": [
    "equal_no()"
   ]
  },
  {
   "cell_type": "markdown",
   "id": "1ae95d8f",
   "metadata": {},
   "source": [
    "# Task-5"
   ]
  },
  {
   "cell_type": "markdown",
   "id": "a18e6241",
   "metadata": {},
   "source": [
    "### A truck runs a distance of N kms per day. Write a program to calculate how many days will be taken to cover M kms."
   ]
  },
  {
   "cell_type": "code",
   "execution_count": null,
   "id": "cc78cd7c",
   "metadata": {},
   "outputs": [],
   "source": [
    "def no_of_days():\n",
    "    kms=int(eval(input(\"Enter 'kms per day'\")))\n",
    "    d=int(eval(input(\"Enter the Distance: \")))\n",
    "    print(\"The required days to reach the distance:\",round(d/kms,1))"
   ]
  },
  {
   "cell_type": "code",
   "execution_count": null,
   "id": "0114b142",
   "metadata": {},
   "outputs": [],
   "source": [
    "no_of_days()"
   ]
  },
  {
   "cell_type": "code",
   "execution_count": null,
   "id": "9b425580",
   "metadata": {},
   "outputs": [],
   "source": [
    "no_of_days()"
   ]
  },
  {
   "cell_type": "markdown",
   "id": "db2b3a2f",
   "metadata": {},
   "source": [
    "# Task-6"
   ]
  },
  {
   "cell_type": "markdown",
   "id": "9e1dc7f3",
   "metadata": {},
   "source": [
    "### Pass your name, surname, phone_no, hobbies in a python script and get all the passed values in a line without space."
   ]
  },
  {
   "cell_type": "code",
   "execution_count": null,
   "id": "cfbfac3e",
   "metadata": {},
   "outputs": [],
   "source": []
  },
  {
   "cell_type": "code",
   "execution_count": 9,
   "id": "a77dc296",
   "metadata": {},
   "outputs": [],
   "source": [
    "name=\"sree\"\n",
    "surname=\"k\"\n",
    "phone_no=\"9876543210\"\n",
    "hobbies=\"reading\"\n",
    "\n",
    "retun=name+surname+phone_no+hobbies"
   ]
  },
  {
   "cell_type": "code",
   "execution_count": 10,
   "id": "0cab47bb",
   "metadata": {},
   "outputs": [
    {
     "data": {
      "text/plain": [
       "'sreek9876543210reading'"
      ]
     },
     "execution_count": 10,
     "metadata": {},
     "output_type": "execute_result"
    }
   ],
   "source": [
    "retun"
   ]
  },
  {
   "cell_type": "code",
   "execution_count": null,
   "id": "6858833a",
   "metadata": {},
   "outputs": [],
   "source": []
  },
  {
   "cell_type": "markdown",
   "id": "430588e0",
   "metadata": {},
   "source": [
    "# Task-7"
   ]
  },
  {
   "cell_type": "markdown",
   "id": "c3f69eee",
   "metadata": {},
   "source": [
    "### Write a python script to\n",
    "    a. separate 2,3,6 characters from your ID.\n",
    "    b. To print character 2 to 5 in your name and surname.\n",
    "    c. Print all the characters of your name and surname"
   ]
  },
  {
   "cell_type": "code",
   "execution_count": 33,
   "id": "4eca7422",
   "metadata": {},
   "outputs": [
    {
     "name": "stdout",
     "output_type": "stream",
     "text": [
      "Enter your name,surname and ID seperate by space:sree k DIRSS2105\n"
     ]
    }
   ],
   "source": [
    "nam,sur,ID=input(\"Enter your name,surname and ID seperate by space:\").split()"
   ]
  },
  {
   "cell_type": "code",
   "execution_count": 36,
   "id": "edacc9ec",
   "metadata": {},
   "outputs": [
    {
     "name": "stdout",
     "output_type": "stream",
     "text": [
      "The 2,3,6, characters from your ID are:\n",
      "I\n",
      "R\n",
      "2\n"
     ]
    }
   ],
   "source": [
    "print(f\"The 2,3,6, characters from your ID are:\\n{ID[1]}\\n{ID[2]}\\n{ID[5]}\")"
   ]
  },
  {
   "cell_type": "code",
   "execution_count": 48,
   "id": "6527a347",
   "metadata": {},
   "outputs": [
    {
     "name": "stdout",
     "output_type": "stream",
     "text": [
      "All characters in your name and surname are:\n",
      " ['s', 'r', 'e', 'e', 'k']\n",
      "All unique characters in your name and surname are:\n",
      " {'e', 'r', 'k', 's'}\n"
     ]
    }
   ],
   "source": [
    "print(f\"All characters in your name and surname are:\\n {list(nam+sur)}\")\n",
    "print(f\"All unique characters in your name and surname are:\\n {set(nam+sur)}\")"
   ]
  },
  {
   "cell_type": "code",
   "execution_count": null,
   "id": "eadac5fa",
   "metadata": {},
   "outputs": [],
   "source": []
  },
  {
   "cell_type": "markdown",
   "id": "7e7dec00",
   "metadata": {},
   "source": [
    "# Task-8"
   ]
  },
  {
   "cell_type": "markdown",
   "id": "57de29b0",
   "metadata": {},
   "source": [
    "### Write your short introduction in a text file. Your introduction consists of Name, Id, contact number, Address, Stream, Joining date, Qualification, Hobbies, Strength and weakness. Pass this file to python. Your task is to calculate total characters, numbers, words and lines used in this introduction file."
   ]
  },
  {
   "cell_type": "code",
   "execution_count": 11,
   "id": "2a68a29e",
   "metadata": {},
   "outputs": [],
   "source": [
    "with open(\"data.txt\",\"w\") as intr:\n",
    "    intr.write(\"\"\"My name is sree with Id DIRSS2105\n",
    "    contact number is 9876543210\n",
    "    address is anantapur\n",
    "    stream mechanical\n",
    "    joining date 27/11/2021\n",
    "    qualification is btech\n",
    "    hobbies are reading and blogging\n",
    "    strengths are positive thinking,self motivation\n",
    "    weaknesses are unable to concentrate in various things at a time\"\"\")\n"
   ]
  },
  {
   "cell_type": "code",
   "execution_count": 29,
   "id": "76af1fad",
   "metadata": {},
   "outputs": [
    {
     "name": "stdout",
     "output_type": "stream",
     "text": [
      "The no.of lines in file:  9\n",
      "The no.of words in 1 line are 7\n",
      "The no.of words in 2 line are 4\n",
      "The no.of words in 3 line are 3\n",
      "The no.of words in 4 line are 2\n",
      "The no.of words in 5 line are 3\n",
      "The no.of words in 6 line are 3\n",
      "The no.of words in 7 line are 5\n",
      "The no.of words in 8 line are 5\n",
      "The no.of words in 9 line are 11\n",
      "Total no.of characters in file are : 227 \n",
      "Total no.of numbers in file are : 22\n",
      "The total no.of words in entire file: 43\n"
     ]
    }
   ],
   "source": [
    "op=open(\"data.txt\")\n",
    "lines=op.readlines()\n",
    "char,numb,words=0,0,0\n",
    "print(\"The no.of lines in file: \",len(lines))\n",
    "for line,m in zip(lines,range(len(lines))):\n",
    "    words+=len(line.split())\n",
    "    print(f\"The no.of words in {m+1} line are {len(line.split())}\")\n",
    "    for key in line:\n",
    "        if key.isalpha():\n",
    "            char+=1\n",
    "        if key.isnumeric():\n",
    "            numb+=1\n",
    "print(f\"Total no.of characters in file are : {char} \\nTotal no.of numbers in file are : {numb}\")\n",
    "print(f\"The total no.of words in entire file: {words}\")\n",
    "op.close()"
   ]
  },
  {
   "cell_type": "code",
   "execution_count": null,
   "id": "f8f8fe35",
   "metadata": {},
   "outputs": [],
   "source": []
  },
  {
   "cell_type": "markdown",
   "id": "1d9b7da6",
   "metadata": {},
   "source": [
    "# Task-9"
   ]
  },
  {
   "cell_type": "markdown",
   "id": "98178327",
   "metadata": {},
   "source": [
    "### Create a function that performs division of numbers. Since divide by zero gives an infinite so if a number which is denominator and 0 must give an exception while performing division operation."
   ]
  },
  {
   "cell_type": "code",
   "execution_count": null,
   "id": "28ecb21f",
   "metadata": {},
   "outputs": [],
   "source": []
  },
  {
   "cell_type": "code",
   "execution_count": 58,
   "id": "8a408aea",
   "metadata": {},
   "outputs": [],
   "source": [
    "def divide():\n",
    "    nume,denom=input(\"Enter numerator and denominator values:\").split()\n",
    "    try:\n",
    "        return int(nume)/int(denom)\n",
    "    except ZeroDivisionError as error:\n",
    "        return f\"It is not possible {error}\""
   ]
  },
  {
   "cell_type": "code",
   "execution_count": 59,
   "id": "601e716a",
   "metadata": {},
   "outputs": [
    {
     "name": "stdout",
     "output_type": "stream",
     "text": [
      "Enter numerator and denominator values:23 0\n"
     ]
    },
    {
     "data": {
      "text/plain": [
       "'It is not possible division by zero'"
      ]
     },
     "execution_count": 59,
     "metadata": {},
     "output_type": "execute_result"
    }
   ],
   "source": [
    "divide()\n",
    "divide()\n"
   ]
  },
  {
   "cell_type": "markdown",
   "id": "73c77ac6",
   "metadata": {},
   "source": [
    "# Task-10"
   ]
  },
  {
   "cell_type": "markdown",
   "id": "8be8fbad",
   "metadata": {},
   "source": [
    "### Create a file in read only mode. Open this file using python and try to write your contact number in that file. As this file is write protected so an exception should occur. Handle this exception using python script."
   ]
  },
  {
   "cell_type": "code",
   "execution_count": null,
   "id": "05d04906",
   "metadata": {},
   "outputs": [],
   "source": []
  },
  {
   "cell_type": "code",
   "execution_count": null,
   "id": "92765197",
   "metadata": {},
   "outputs": [],
   "source": []
  },
  {
   "cell_type": "code",
   "execution_count": null,
   "id": "00c74215",
   "metadata": {},
   "outputs": [],
   "source": []
  },
  {
   "cell_type": "code",
   "execution_count": null,
   "id": "d3f2787a",
   "metadata": {},
   "outputs": [],
   "source": []
  },
  {
   "cell_type": "markdown",
   "id": "de0119fe",
   "metadata": {},
   "source": [
    "# Task-11"
   ]
  },
  {
   "cell_type": "markdown",
   "id": "129df7a9",
   "metadata": {},
   "source": [
    "### Create an html generator using:\n",
    "    a. A base class with a couple methods\n",
    "    b. Subclass overriding class attributes\n",
    "    c. Subclass overriding a method\n",
    "    d. Subclass overriding the ___init__"
   ]
  },
  {
   "cell_type": "code",
   "execution_count": null,
   "id": "702129cc",
   "metadata": {},
   "outputs": [],
   "source": []
  },
  {
   "cell_type": "code",
   "execution_count": null,
   "id": "ce51aa9a",
   "metadata": {},
   "outputs": [],
   "source": []
  },
  {
   "cell_type": "code",
   "execution_count": null,
   "id": "4499c202",
   "metadata": {},
   "outputs": [],
   "source": []
  },
  {
   "cell_type": "code",
   "execution_count": null,
   "id": "e220a956",
   "metadata": {},
   "outputs": [],
   "source": []
  },
  {
   "cell_type": "markdown",
   "id": "5b5d7e16",
   "metadata": {},
   "source": [
    "# Task-12"
   ]
  },
  {
   "cell_type": "markdown",
   "id": "a4260d5b",
   "metadata": {},
   "source": [
    "### Create an html generator using:\n",
    "    a. A base class with a couple methods\n",
    "    b. Subclass overriding class attributes\n",
    "    c. Subclass overriding a method\n",
    "    d. Subclass overriding the ___init__"
   ]
  },
  {
   "cell_type": "code",
   "execution_count": null,
   "id": "ca43b0d6",
   "metadata": {},
   "outputs": [],
   "source": []
  },
  {
   "cell_type": "code",
   "execution_count": null,
   "id": "b911acac",
   "metadata": {},
   "outputs": [],
   "source": []
  },
  {
   "cell_type": "code",
   "execution_count": 2,
   "id": "62f8c83f",
   "metadata": {},
   "outputs": [],
   "source": [
    "import argparse\n",
    "parser = argparse.ArgumentParser()"
   ]
  },
  {
   "cell_type": "code",
   "execution_count": 3,
   "id": "a4cbeb6e",
   "metadata": {},
   "outputs": [
    {
     "name": "stderr",
     "output_type": "stream",
     "text": [
      "usage: ipykernel_launcher.py [-h] number\n",
      "ipykernel_launcher.py: error: unrecognized arguments: -f\n"
     ]
    },
    {
     "ename": "SystemExit",
     "evalue": "2",
     "output_type": "error",
     "traceback": [
      "An exception has occurred, use %tb to see the full traceback.\n",
      "\u001b[1;31mSystemExit\u001b[0m\u001b[1;31m:\u001b[0m 2\n"
     ]
    }
   ],
   "source": [
    "import argparse\n",
    "parser = argparse.ArgumentParser()\n",
    "parser.add_argument(\"number\")\n",
    "args = parser.parse_args()\n",
    "print(args.number * 2)"
   ]
  },
  {
   "cell_type": "code",
   "execution_count": 4,
   "id": "dc968836",
   "metadata": {},
   "outputs": [
    {
     "name": "stdout",
     "output_type": "stream",
     "text": [
      "Total number of arguments: 3\n",
      "Argument List: ['C:\\\\Users\\\\Sreenivasulu\\\\anaconda3\\\\lib\\\\site-packages\\\\ipykernel_launcher.py', '-f', 'C:\\\\Users\\\\Sreenivasulu\\\\AppData\\\\Roaming\\\\jupyter\\\\runtime\\\\kernel-455db56a-2907-4475-bec6-1cef949a97e2.json']\n",
      "First argument: C:\\Users\\Sreenivasulu\\anaconda3\\lib\\site-packages\\ipykernel_launcher.py\n",
      "Second argument: -f\n",
      "Third argument: C:\\Users\\Sreenivasulu\\AppData\\Roaming\\jupyter\\runtime\\kernel-455db56a-2907-4475-bec6-1cef949a97e2.json\n"
     ]
    },
    {
     "ename": "IndexError",
     "evalue": "list index out of range",
     "output_type": "error",
     "traceback": [
      "\u001b[1;31m---------------------------------------------------------------------------\u001b[0m",
      "\u001b[1;31mIndexError\u001b[0m                                Traceback (most recent call last)",
      "\u001b[1;32m<ipython-input-4-6a8b39927556>\u001b[0m in \u001b[0;36m<module>\u001b[1;34m\u001b[0m\n\u001b[0;32m     13\u001b[0m \u001b[0mprint\u001b[0m \u001b[1;33m(\u001b[0m\u001b[1;34m'Second argument:'\u001b[0m\u001b[1;33m,\u001b[0m  \u001b[0mstr\u001b[0m\u001b[1;33m(\u001b[0m\u001b[0msys\u001b[0m\u001b[1;33m.\u001b[0m\u001b[0margv\u001b[0m\u001b[1;33m[\u001b[0m\u001b[1;36m1\u001b[0m\u001b[1;33m]\u001b[0m\u001b[1;33m)\u001b[0m\u001b[1;33m)\u001b[0m\u001b[1;33m\u001b[0m\u001b[1;33m\u001b[0m\u001b[0m\n\u001b[0;32m     14\u001b[0m \u001b[0mprint\u001b[0m \u001b[1;33m(\u001b[0m\u001b[1;34m'Third argument:'\u001b[0m\u001b[1;33m,\u001b[0m  \u001b[0mstr\u001b[0m\u001b[1;33m(\u001b[0m\u001b[0msys\u001b[0m\u001b[1;33m.\u001b[0m\u001b[0margv\u001b[0m\u001b[1;33m[\u001b[0m\u001b[1;36m2\u001b[0m\u001b[1;33m]\u001b[0m\u001b[1;33m)\u001b[0m\u001b[1;33m)\u001b[0m\u001b[1;33m\u001b[0m\u001b[1;33m\u001b[0m\u001b[0m\n\u001b[1;32m---> 15\u001b[1;33m \u001b[0mprint\u001b[0m \u001b[1;33m(\u001b[0m\u001b[1;34m'Fourth argument:'\u001b[0m\u001b[1;33m,\u001b[0m  \u001b[0mstr\u001b[0m\u001b[1;33m(\u001b[0m\u001b[0msys\u001b[0m\u001b[1;33m.\u001b[0m\u001b[0margv\u001b[0m\u001b[1;33m[\u001b[0m\u001b[1;36m3\u001b[0m\u001b[1;33m]\u001b[0m\u001b[1;33m)\u001b[0m\u001b[1;33m)\u001b[0m\u001b[1;33m\u001b[0m\u001b[1;33m\u001b[0m\u001b[0m\n\u001b[0m",
      "\u001b[1;31mIndexError\u001b[0m: list index out of range"
     ]
    }
   ],
   "source": [
    "#!/usr/bin/python\n",
    "\n",
    "import sys\n",
    "\n",
    "# Print total number of arguments\n",
    "print ('Total number of arguments:', format(len(sys.argv)))\n",
    "\n",
    "# Print all arguments\n",
    "print ('Argument List:', str(sys.argv))\n",
    "\n",
    "# Print arguments one by one\n",
    "print ('First argument:',  str(sys.argv[0]))\n",
    "print ('Second argument:',  str(sys.argv[1]))\n",
    "print ('Third argument:',  str(sys.argv[2]))\n",
    "print ('Fourth argument:',  str(sys.argv[3]))"
   ]
  },
  {
   "cell_type": "code",
   "execution_count": 6,
   "id": "b3996f7b",
   "metadata": {},
   "outputs": [
    {
     "ename": "SyntaxError",
     "evalue": "invalid syntax (<ipython-input-6-c3b4c85a36a7>, line 1)",
     "output_type": "error",
     "traceback": [
      "\u001b[1;36m  File \u001b[1;32m\"<ipython-input-6-c3b4c85a36a7>\"\u001b[1;36m, line \u001b[1;32m1\u001b[0m\n\u001b[1;33m    $ python script.py first 2 third 4.5\u001b[0m\n\u001b[1;37m    ^\u001b[0m\n\u001b[1;31mSyntaxError\u001b[0m\u001b[1;31m:\u001b[0m invalid syntax\n"
     ]
    }
   ],
   "source": [
    "$ python script.py first 2 third 4.5\n"
   ]
  },
  {
   "cell_type": "code",
   "execution_count": null,
   "id": "f57e336e",
   "metadata": {},
   "outputs": [],
   "source": []
  }
 ],
 "metadata": {
  "kernelspec": {
   "display_name": "Python 3",
   "language": "python",
   "name": "python3"
  },
  "language_info": {
   "codemirror_mode": {
    "name": "ipython",
    "version": 3
   },
   "file_extension": ".py",
   "mimetype": "text/x-python",
   "name": "python",
   "nbconvert_exporter": "python",
   "pygments_lexer": "ipython3",
   "version": "3.8.8"
  }
 },
 "nbformat": 4,
 "nbformat_minor": 5
}
