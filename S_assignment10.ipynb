{
 "cells": [
  {
   "cell_type": "markdown",
   "id": "9ab87562",
   "metadata": {},
   "source": [
    "# Task-1"
   ]
  },
  {
   "cell_type": "markdown",
   "id": "5b0472f9",
   "metadata": {},
   "source": [
    "## Create a method overloading program"
   ]
  },
  {
   "cell_type": "markdown",
   "id": "14a52ca9",
   "metadata": {},
   "source": [
    "#### if the both the values are equal --> then print False inside a formatted string"
   ]
  },
  {
   "cell_type": "markdown",
   "id": "2c18189a",
   "metadata": {},
   "source": [
    "#### otherwise --> print True"
   ]
  },
  {
   "cell_type": "code",
   "execution_count": 11,
   "id": "931e6533",
   "metadata": {},
   "outputs": [],
   "source": [
    "class unequal:\n",
    "    def __init__(self,x,y):\n",
    "        self.x= x\n",
    "        self.y= y\n",
    "    \n",
    "    def __str__(self):\n",
    "        return \"The equal comparison is:  \"+str(self.x!=self.y)\n",
    "    \n",
    "    def __eq__(self,temp):\n",
    "        return \"The comparison of first numbers:  \" + str(self.x!=temp.x)+\"\\nThe comparison of last numbers:  \" +str((self.y!=temp.y))\n",
    "    "
   ]
  },
  {
   "cell_type": "code",
   "execution_count": 12,
   "id": "42f95bc1",
   "metadata": {},
   "outputs": [
    {
     "name": "stdout",
     "output_type": "stream",
     "text": [
      "first number:2\n",
      "second number:3\n",
      "The equal comparison is:  True\n"
     ]
    }
   ],
   "source": [
    "o=unequal(int(input(\"first number:\")),int(input(\"second number:\")))\n",
    "print(o)"
   ]
  },
  {
   "cell_type": "code",
   "execution_count": 13,
   "id": "b06cdc98",
   "metadata": {},
   "outputs": [
    {
     "name": "stdout",
     "output_type": "stream",
     "text": [
      "first number:3\n",
      "second number:2\n",
      "The equal comparison is:  True\n"
     ]
    }
   ],
   "source": [
    "p=unequal(int(input(\"first number:\")),int(input(\"second number:\")))\n",
    "print(p)"
   ]
  },
  {
   "cell_type": "code",
   "execution_count": 14,
   "id": "de42cdc9",
   "metadata": {},
   "outputs": [
    {
     "name": "stdout",
     "output_type": "stream",
     "text": [
      "The comparison of first numbers:  True\n",
      "The comparison of last numbers:  True\n"
     ]
    }
   ],
   "source": [
    "print(p==o)"
   ]
  },
  {
   "cell_type": "code",
   "execution_count": null,
   "id": "98d277c2",
   "metadata": {},
   "outputs": [],
   "source": []
  },
  {
   "cell_type": "markdown",
   "id": "19f17b2b",
   "metadata": {},
   "source": [
    "# Task-2"
   ]
  },
  {
   "cell_type": "markdown",
   "id": "c8fc5e07",
   "metadata": {},
   "source": [
    "### Program for various operations based on user input digit\n"
   ]
  },
  {
   "cell_type": "raw",
   "id": "e2951e77",
   "metadata": {},
   "source": [
    "if User given\n",
    "0-->throws valueerror\n",
    "1-->creates a directory\n",
    "2-->gives your IPv4\n",
    "3-->shutdowns your system\n",
    "4-->opens a url in browser\n",
    "5-9--->calls a method to write calculations into file\n",
    "\n",
    "Note:It works for digits only and gives three chances"
   ]
  },
  {
   "cell_type": "code",
   "execution_count": 15,
   "id": "be6b261b",
   "metadata": {},
   "outputs": [
    {
     "name": "stdout",
     "output_type": "stream",
     "text": [
      "Enter a digit in between 1-9 :  2\n",
      "Your Computer Name is:Millionaire\n",
      "Your Computer IP Address is:192.168.43.91\n"
     ]
    }
   ],
   "source": [
    "import os\n",
    "import socket \n",
    "\n",
    "\n",
    "counter = 0\n",
    "num=input(\"Enter a digit in between 1-9 :  \")\n",
    "\n",
    "\n",
    "while (num.isdigit() is False) and counter <= 1:\n",
    "    print('You cannot enter a string!')\n",
    "    num=input(\"Enter a digit in between 1-9 :  \")\n",
    "    counter = counter + 1\n",
    "    \n",
    "\n",
    "if counter <= 1:\n",
    "    nums = int(num)\n",
    "    \n",
    "    if nums == 0:\n",
    "        raise ValueError('Enter other than ZERO')\n",
    "    \n",
    "    if nums ==1:\n",
    "        directory=input(\"Enter your new directory name:   \")\n",
    "        parent_dir=\"C:/\"+input(\"\\nEnter Location for your directory: \")\n",
    "        path = os.path.join(parent_dir, directory)\n",
    "        \n",
    "        try:\n",
    "            os.makedirs(path, exist_ok = True)\n",
    "            print(\"\\nDirectory '%s' created successfully\" % directory)\n",
    "        \n",
    "        except OSError as error:\n",
    "            print(error)\n",
    "    \n",
    "    if nums==2:\n",
    "        hostname = socket.gethostname()   \n",
    "        IPAddr = socket.gethostbyname(hostname)    \n",
    "        print(\"Your Computer Name is:\" + hostname)   \n",
    "        print(\"Your Computer IP Address is:\" + IPAddr)  \n",
    "    \n",
    "    if nums==3:\n",
    "        shutdown = input(\"Do you wish to shutdown your computer ? (yes / no): \")\n",
    "        if shutdown == 'no':\n",
    "            exit()\n",
    "        else:\n",
    "            os.system(\"shutdown /s /t 1\")\n",
    "    \n",
    "    if nums==4:\n",
    "        os.system(\"start \\\"\\\" https://mrdoob.com/projects/chromeexperiments/google-gravity/\")\n",
    "    \n",
    "    if nums in range(5,10):\n",
    "        class fiv:\n",
    "            def __init__(self,a,b):\n",
    "                self.a=a\n",
    "                self.b=b\n",
    "            def opn(self):\n",
    "                ope=open(\"data.txt\",\"w\")\n",
    "                a=self.a+self.b\n",
    "                solve=[f\"The solution of {self.a} and {self.b} is \"+ str(a)]  \n",
    "                ope.writelines(solve)\n",
    "                ope.close()\n",
    "                ope=open(\"data.txt\",\"r\")\n",
    "                print(\"The addition is: \")\n",
    "                print(ope.readline())\n",
    "                print()\n",
    "                ope.close()\n",
    "        ans= fiv(int(input(\"first:\")),int(input(\"second:\")))\n",
    "        ans.opn()\n",
    "    \n",
    "    if nums>=10:\n",
    "        print(\"Only digits\\nNot numbers \\nBetterluck nexttime\")\n",
    "            \n",
    "        \n",
    "        \n",
    "\n",
    "else:\n",
    "    print('Error: cannot exceed three attempts')\n",
    "    exit()"
   ]
  }
 ],
 "metadata": {
  "kernelspec": {
   "display_name": "Python 3",
   "language": "python",
   "name": "python3"
  },
  "language_info": {
   "codemirror_mode": {
    "name": "ipython",
    "version": 3
   },
   "file_extension": ".py",
   "mimetype": "text/x-python",
   "name": "python",
   "nbconvert_exporter": "python",
   "pygments_lexer": "ipython3",
   "version": "3.8.8"
  }
 },
 "nbformat": 4,
 "nbformat_minor": 5
}
