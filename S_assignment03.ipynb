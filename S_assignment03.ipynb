{
 "cells": [
  {
   "cell_type": "code",
   "execution_count": 1,
   "id": "9e890591",
   "metadata": {},
   "outputs": [
    {
     "name": "stdout",
     "output_type": "stream",
     "text": [
      "['APPLE', 'BANANA', 'KIWI', 'MANGO', '']\n",
      "enter your mail id :sreenu.dsa@gmail.com\n",
      "First name : sreenu\n",
      "Last name : dsa\n",
      "domain : gmail.com\n",
      "enter your mail id containing your DOB :sreenu.dfd.1999@gmail.com\n",
      "First name : sreenu\n",
      "Last name : dfd\n",
      "age : 22\n",
      "domain : gmail.com\n"
     ]
    }
   ],
   "source": [
    "\n",
    "# Assign 1\n",
    "\n",
    "s = \"APPLEFRUITBANANAFRUITKIWIFRUITMANGOFRUIT\"\n",
    "\n",
    "#  extract only APPLE   BANANA KIWI MANGO\n",
    "\n",
    "print(s.split('FRUIT') )\n",
    "\n",
    "\n",
    "# Assign 2\n",
    "#mail should be like FIRSTNAME.LASTNAME@GMAIL.COM\n",
    "\n",
    "mail = input( 'enter your mail id :' , )\n",
    "lst = list(mail[:-10].split('.'))\n",
    "print('First name :' , lst[0])\n",
    "print('Last name :' , lst[1])\n",
    "print('domain :' , mail[-9:])\n",
    "\n",
    "\n",
    "# Assgn 3\n",
    "#Emailid = firstname.lastname.1995@gmail.com\n",
    "\n",
    "Mail = input( 'enter your mail id containing your DOB :' , )\n",
    "Lst = list(Mail[:-10].split('.'))\n",
    "print('First name :' , Lst[0])\n",
    "print('Last name :' , Lst[1])\n",
    "print('age :' , 2021 - int(Lst[2]))\n",
    "print('domain :' , Mail[-9:])\n",
    "\n",
    "\n",
    "\n"
   ]
  },
  {
   "cell_type": "code",
   "execution_count": null,
   "id": "ee5b71ca",
   "metadata": {},
   "outputs": [],
   "source": []
  }
 ],
 "metadata": {
  "kernelspec": {
   "display_name": "Python 3",
   "language": "python",
   "name": "python3"
  },
  "language_info": {
   "codemirror_mode": {
    "name": "ipython",
    "version": 3
   },
   "file_extension": ".py",
   "mimetype": "text/x-python",
   "name": "python",
   "nbconvert_exporter": "python",
   "pygments_lexer": "ipython3",
   "version": "3.8.8"
  }
 },
 "nbformat": 4,
 "nbformat_minor": 5
}
