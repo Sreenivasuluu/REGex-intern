{
 "cells": [
  {
   "cell_type": "code",
   "execution_count": 12,
   "id": "59af5fda",
   "metadata": {
    "scrolled": false
   },
   "outputs": [
    {
     "name": "stdout",
     "output_type": "stream",
     "text": [
      "83\n",
      "82\n",
      "69\n",
      "69\n",
      "78\n",
      "73\n",
      "86\n",
      "65\n",
      "83\n",
      "85\n",
      "76\n",
      "85\n"
     ]
    }
   ],
   "source": [
    "name = 'SREENIVASULU'\n",
    "for i in range(len(name)) :\n",
    "    l = name[i]\n",
    "    print(ord(l))\n",
    "\n"
   ]
  },
  {
   "cell_type": "code",
   "execution_count": 13,
   "id": "dfa99eb5",
   "metadata": {},
   "outputs": [
    {
     "name": "stdout",
     "output_type": "stream",
     "text": [
      "105\n",
      "78\n",
      "68\n",
      "64\n",
      "73\n",
      "65\n"
     ]
    }
   ],
   "source": [
    "word = 'iND@IA'\n",
    "for i in range(len(word)) :\n",
    "    k = word[i]\n",
    "    print(ord(k))"
   ]
  },
  {
   "cell_type": "code",
   "execution_count": 14,
   "id": "ceac137f",
   "metadata": {},
   "outputs": [
    {
     "name": "stdout",
     "output_type": "stream",
     "text": [
      "P\n",
      "\\\n",
      "c\n",
      "j\n",
      "t\n"
     ]
    }
   ],
   "source": [
    "lst = [80,92,99,106,116]\n",
    "for i in range(len(lst)):\n",
    "    m = lst[i]\n",
    "    print(chr(m))"
   ]
  },
  {
   "cell_type": "code",
   "execution_count": null,
   "id": "d084669d",
   "metadata": {},
   "outputs": [],
   "source": []
  }
 ],
 "metadata": {
  "kernelspec": {
   "display_name": "Python 3",
   "language": "python",
   "name": "python3"
  },
  "language_info": {
   "codemirror_mode": {
    "name": "ipython",
    "version": 3
   },
   "file_extension": ".py",
   "mimetype": "text/x-python",
   "name": "python",
   "nbconvert_exporter": "python",
   "pygments_lexer": "ipython3",
   "version": "3.8.8"
  }
 },
 "nbformat": 4,
 "nbformat_minor": 5
}
