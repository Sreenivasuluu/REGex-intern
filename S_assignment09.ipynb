{
 "cells": [
  {
   "cell_type": "markdown",
   "id": "07e6ad4c",
   "metadata": {},
   "source": [
    "# Task-1"
   ]
  },
  {
   "cell_type": "markdown",
   "id": "79de2b85",
   "metadata": {},
   "source": [
    "### Program for pattern using FOR loop"
   ]
  },
  {
   "cell_type": "code",
   "execution_count": 9,
   "id": "8734e2be",
   "metadata": {},
   "outputs": [
    {
     "name": "stdout",
     "output_type": "stream",
     "text": [
      "Enter a number:\n",
      "5\n",
      "*****\n",
      "\n",
      "****\n",
      "\n",
      "***\n",
      "\n",
      "**\n",
      "\n",
      "*\n",
      "\n"
     ]
    }
   ],
   "source": [
    "n = int(input('Enter a number:\\n'))\n",
    "for j in range(n,0,-1):\n",
    "    print('*'*j,end='')\n",
    "    print('\\n')"
   ]
  },
  {
   "cell_type": "code",
   "execution_count": 10,
   "id": "b2332e52",
   "metadata": {},
   "outputs": [
    {
     "name": "stdout",
     "output_type": "stream",
     "text": [
      "Enter a number:\n",
      "5\n",
      "\n",
      "\n",
      "*\n",
      "\n",
      "**\n",
      "\n",
      "***\n",
      "\n",
      "****\n",
      "\n",
      "*****\n",
      "\n"
     ]
    }
   ],
   "source": [
    "n = int(input('Enter a number:\\n'))\n",
    "for j in range(n+1):\n",
    "    print('*'*j,end='')\n",
    "    print('\\n')"
   ]
  },
  {
   "cell_type": "markdown",
   "id": "b578d224",
   "metadata": {},
   "source": [
    "# Task-2"
   ]
  },
  {
   "cell_type": "markdown",
   "id": "87d4bbc3",
   "metadata": {},
   "source": [
    "### Program for pattern using WHILE loop"
   ]
  },
  {
   "cell_type": "code",
   "execution_count": 11,
   "id": "19829bc2",
   "metadata": {},
   "outputs": [
    {
     "name": "stdout",
     "output_type": "stream",
     "text": [
      "Enter a number:\n",
      "5\n",
      "*****\n",
      "\n",
      "****\n",
      "\n",
      "***\n",
      "\n",
      "**\n",
      "\n",
      "*\n",
      "\n"
     ]
    }
   ],
   "source": [
    "n = int(input('Enter a number:\\n'))\n",
    "while n>0:\n",
    "    print('*'*n,end='')\n",
    "    print('\\n')\n",
    "    n-=1"
   ]
  },
  {
   "cell_type": "code",
   "execution_count": 12,
   "id": "ca5ac30e",
   "metadata": {},
   "outputs": [
    {
     "name": "stdout",
     "output_type": "stream",
     "text": [
      "Enter a number:\n",
      "5\n",
      "*\n",
      "\n",
      "**\n",
      "\n",
      "***\n",
      "\n",
      "****\n",
      "\n",
      "*****\n",
      "\n"
     ]
    }
   ],
   "source": [
    "n = int(input('Enter a number:\\n'))\n",
    "i=1\n",
    "while i<=n:\n",
    "    print('*'*i,end='')\n",
    "    print('\\n')\n",
    "    i+=1"
   ]
  }
 ],
 "metadata": {
  "kernelspec": {
   "display_name": "Python 3",
   "language": "python",
   "name": "python3"
  },
  "language_info": {
   "codemirror_mode": {
    "name": "ipython",
    "version": 3
   },
   "file_extension": ".py",
   "mimetype": "text/x-python",
   "name": "python",
   "nbconvert_exporter": "python",
   "pygments_lexer": "ipython3",
   "version": "3.8.8"
  }
 },
 "nbformat": 4,
 "nbformat_minor": 5
}
