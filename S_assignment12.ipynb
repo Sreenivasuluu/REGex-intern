{
 "cells": [
  {
   "cell_type": "markdown",
   "id": "64a9464b",
   "metadata": {},
   "source": [
    "# Numpy Assignment"
   ]
  },
  {
   "cell_type": "markdown",
   "id": "72090236",
   "metadata": {},
   "source": [
    "###### [1] Numpy stands for ?\n",
    "\n",
    "> NumPy, which stands for Numerical Python,\n",
    "is a library consisting of multidimensional array objects.\n",
    "Using NumPy, mathematical and logical operations on arrays can be performed"
   ]
  },
  {
   "cell_type": "markdown",
   "id": "3c1b792b",
   "metadata": {},
   "source": [
    "###### [2] The most important object defined in NumPy is an N-dimensional array type called ?\n",
    "\n",
    "> ndarray"
   ]
  },
  {
   "cell_type": "markdown",
   "id": "c0802255",
   "metadata": {},
   "source": [
    "##### [3] What will be the output for following code ?"
   ]
  },
  {
   "cell_type": "code",
   "execution_count": 1,
   "id": "224effe0",
   "metadata": {},
   "outputs": [
    {
     "name": "stdout",
     "output_type": "stream",
     "text": [
      "[1.+0.j 2.+0.j 3.+0.j]\n",
      "[1 2 3]\n",
      "[1. 2. 3.]\n",
      "\n",
      "\n",
      "int32\n",
      "[[1 2 3 4 5]]\n",
      "\n",
      "\n",
      "[10 20 30]\n"
     ]
    }
   ],
   "source": [
    "import numpy as np\n",
    "a=np.array([1,2,3],dtype=complex)\n",
    "print(a)\n",
    "a=np.array([1,2,3])\n",
    "print(a)\n",
    "a=np.array([1,2,3],dtype=float)\n",
    "print(a)\n",
    "print('\\n')\n",
    "\n",
    "\n",
    "a=np.dtype('i4')\n",
    "print(a)\n",
    "a=np.array([1,2,3,4,5],ndmin=2)\n",
    "print(a)\n",
    "print('\\n')\n",
    "\n",
    "\n",
    "dt = np.dtype([('age',np.int8)])\n",
    "a = np.array([(10,),(20,),(30,)],dtype = dt)\n",
    "print(a['age'])"
   ]
  },
  {
   "cell_type": "code",
   "execution_count": 2,
   "id": "c402ff64",
   "metadata": {},
   "outputs": [
    {
     "name": "stdout",
     "output_type": "stream",
     "text": [
      "21\n"
     ]
    }
   ],
   "source": [
    "a = np.array([1,2,3,5,8])\n",
    "b = np.array([0,3,4,2,1])\n",
    "c = a + b\n",
    "c = c*a\n",
    "print (c[2])"
   ]
  },
  {
   "cell_type": "code",
   "execution_count": 3,
   "id": "792f9ded",
   "metadata": {},
   "outputs": [
    {
     "name": "stdout",
     "output_type": "stream",
     "text": [
      "3\n"
     ]
    }
   ],
   "source": [
    "a = np.array([1,2,3,5,8])\n",
    "a = a + 1\n",
    "print (a[1])"
   ]
  },
  {
   "cell_type": "code",
   "execution_count": 4,
   "id": "c20ed75e",
   "metadata": {},
   "outputs": [
    {
     "name": "stdout",
     "output_type": "stream",
     "text": [
      "6\n",
      "1\n",
      "'a.ndim.describe' throws an error as 'int' object has no attribute 'describe'\n",
      "\n",
      "'a.describe' throws an error as 'numpy.ndarray' object has no attribute 'describe'\n",
      "\n",
      "'a.shape()' throws an error as 'tuple' object is not callable\n",
      "\n",
      "(5,)\n"
     ]
    }
   ],
   "source": [
    "a = np.array([[1,2,3],[0,1,4]])\n",
    "print(a.size)\n",
    "a = np.array([1,2,3,5,8])\n",
    "print(a.ndim)\n",
    "print(\"'a.ndim.describe' throws an error as 'int' object has no attribute 'describe'\\n\")\n",
    "\n",
    "print(\"'a.describe' throws an error as 'numpy.ndarray' object has no attribute 'describe'\\n\")\n",
    "\n",
    "print(\"'a.shape()' throws an error as 'tuple' object is not callable\\n\")\n",
    "\n",
    "print(a.shape)"
   ]
  },
  {
   "cell_type": "code",
   "execution_count": 5,
   "id": "3abddad8",
   "metadata": {},
   "outputs": [
    {
     "name": "stdout",
     "output_type": "stream",
     "text": [
      "5\n",
      "6\n",
      "\n",
      "'d.attributes' throws an error as 'numpy.ndarray' object has no attribute 'attributes'\n",
      "\n",
      "'a.zeroes()' throws an error as 'numpy.ndarray' object has no attribute 'zeros'\n"
     ]
    }
   ],
   "source": [
    "a=np.array([[1,2,3],[0,1,4]])\n",
    "b=np.zeros((2,3),dtype=np.int16)\n",
    "c=np.ones((2,3),dtype=np.int16)\n",
    "d=a+b+c\n",
    "print(d[1,2])\n",
    "print(d.size)\n",
    "\n",
    "print(\"\\n'd.attributes' throws an error as 'numpy.ndarray' object has no attribute 'attributes'\\n\")\n",
    "\n",
    "print(\"'a.zeroes()' throws an error as 'numpy.ndarray' object has no attribute 'zeros'\")"
   ]
  },
  {
   "cell_type": "markdown",
   "id": "04e6b5e2",
   "metadata": {},
   "source": [
    "###### [4] Find rank,determinant,trace,inverse,transpose of \n",
    "     A=np.array([[6,1,1],[4,-2,5],[2,8,7]])"
   ]
  },
  {
   "cell_type": "code",
   "execution_count": 6,
   "id": "9d0ba0bf",
   "metadata": {},
   "outputs": [
    {
     "name": "stdout",
     "output_type": "stream",
     "text": [
      "The given matrix A is:\n",
      " [[ 6  1  1]\n",
      " [ 4 -2  5]\n",
      " [ 2  8  7]]\n",
      "The rank of A is: 3\n",
      "The determinant of A is: -306.0\n",
      "The trace of A is: 11\n",
      "The inverse of A is:\n",
      " [[ 0.17647059 -0.00326797 -0.02287582]\n",
      " [ 0.05882353 -0.13071895  0.08496732]\n",
      " [-0.11764706  0.1503268   0.05228758]]\n",
      "The transpose of A is:\n",
      " [[ 6  4  2]\n",
      " [ 1 -2  8]\n",
      " [ 1  5  7]]\n"
     ]
    }
   ],
   "source": [
    "A=np.array([[6,1,1],[4,-2,5],[2,8,7]])\n",
    "print(\"The given matrix A is:\\n\",A)\n",
    "print(\"The rank of A is:\",np.linalg.matrix_rank (A))\n",
    "print(\"The determinant of A is:\",np.linalg.det(A))\n",
    "print(\"The trace of A is:\",np.trace(A))\n",
    "print(\"The inverse of A is:\\n\",np.linalg.inv(A))\n",
    "print(\"The transpose of A is:\\n\",np.transpose(A))"
   ]
  },
  {
   "cell_type": "markdown",
   "id": "bc0203f1",
   "metadata": {},
   "source": [
    "###### [5] Type these lines of code and check the output for each of them."
   ]
  },
  {
   "cell_type": "code",
   "execution_count": 7,
   "id": "9b48eb69",
   "metadata": {},
   "outputs": [
    {
     "name": "stdout",
     "output_type": "stream",
     "text": [
      "X+Y is: [1, 2, 3, 4, 5, 6, 10, 9, 8, 7, 6, 5]\n",
      "\n",
      "'*','%','/','-','^' are unsupported operand types for LIST and LIST\n"
     ]
    }
   ],
   "source": [
    "X=[1,2,3,4,5,6]\n",
    "Y=[10,9,8,7,6,5]\n",
    "print(\"X+Y is:\",X+Y)\n",
    "print(\"\\n'*','%','/','-','^' are unsupported operand types for LIST and LIST\")"
   ]
  },
  {
   "cell_type": "markdown",
   "id": "efa40be6",
   "metadata": {},
   "source": [
    "###### [6] Type these lines of code and check the output for each of them."
   ]
  },
  {
   "cell_type": "code",
   "execution_count": 8,
   "id": "6b65e0b2",
   "metadata": {},
   "outputs": [],
   "source": [
    "list1 = np.array([1, 2, 3, 4 ,5, 6])\n",
    "list2 = np.array([10, 9, 8, 7, 6, 5])\n"
   ]
  },
  {
   "cell_type": "code",
   "execution_count": 9,
   "id": "494aca2c",
   "metadata": {},
   "outputs": [
    {
     "data": {
      "text/plain": [
       "array([10, 18, 24, 28, 30, 30])"
      ]
     },
     "execution_count": 9,
     "metadata": {},
     "output_type": "execute_result"
    }
   ],
   "source": [
    "list1*list2"
   ]
  },
  {
   "cell_type": "code",
   "execution_count": 10,
   "id": "46ec0b61",
   "metadata": {},
   "outputs": [
    {
     "data": {
      "text/plain": [
       "array([11, 11, 11, 11, 11, 11])"
      ]
     },
     "execution_count": 10,
     "metadata": {},
     "output_type": "execute_result"
    }
   ],
   "source": [
    "list1+list2"
   ]
  },
  {
   "cell_type": "code",
   "execution_count": 11,
   "id": "91e6f4e5",
   "metadata": {},
   "outputs": [
    {
     "data": {
      "text/plain": [
       "array([1, 2, 3, 4, 5, 1], dtype=int32)"
      ]
     },
     "execution_count": 11,
     "metadata": {},
     "output_type": "execute_result"
    }
   ],
   "source": [
    "list1%list2"
   ]
  },
  {
   "cell_type": "code",
   "execution_count": 12,
   "id": "6d53951f",
   "metadata": {},
   "outputs": [
    {
     "data": {
      "text/plain": [
       "array([0.1       , 0.22222222, 0.375     , 0.57142857, 0.83333333,\n",
       "       1.2       ])"
      ]
     },
     "execution_count": 12,
     "metadata": {},
     "output_type": "execute_result"
    }
   ],
   "source": [
    "list1/list2"
   ]
  },
  {
   "cell_type": "code",
   "execution_count": 13,
   "id": "a6b2c55f",
   "metadata": {},
   "outputs": [
    {
     "data": {
      "text/plain": [
       "array([-9, -7, -5, -3, -1,  1])"
      ]
     },
     "execution_count": 13,
     "metadata": {},
     "output_type": "execute_result"
    }
   ],
   "source": [
    "list1-list2"
   ]
  },
  {
   "cell_type": "code",
   "execution_count": 14,
   "id": "9ad7b682",
   "metadata": {},
   "outputs": [
    {
     "data": {
      "text/plain": [
       "array([11, 11, 11,  3,  3,  3], dtype=int32)"
      ]
     },
     "execution_count": 14,
     "metadata": {},
     "output_type": "execute_result"
    }
   ],
   "source": [
    "list1^list2"
   ]
  },
  {
   "cell_type": "code",
   "execution_count": null,
   "id": "7f8a2ab4",
   "metadata": {},
   "outputs": [],
   "source": []
  }
 ],
 "metadata": {
  "kernelspec": {
   "display_name": "Python 3",
   "language": "python",
   "name": "python3"
  },
  "language_info": {
   "codemirror_mode": {
    "name": "ipython",
    "version": 3
   },
   "file_extension": ".py",
   "mimetype": "text/x-python",
   "name": "python",
   "nbconvert_exporter": "python",
   "pygments_lexer": "ipython3",
   "version": "3.8.8"
  }
 },
 "nbformat": 4,
 "nbformat_minor": 5
}
