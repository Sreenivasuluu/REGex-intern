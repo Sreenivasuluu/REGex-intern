{
 "cells": [
  {
   "cell_type": "markdown",
   "id": "a4e48f7a",
   "metadata": {},
   "source": [
    "# Task-1"
   ]
  },
  {
   "cell_type": "markdown",
   "id": "27398c82",
   "metadata": {},
   "source": [
    "### Take any value from the user, print “odd” if the value entered is odd and print “even” otherwise."
   ]
  },
  {
   "cell_type": "code",
   "execution_count": 1,
   "id": "b386ee07",
   "metadata": {},
   "outputs": [
    {
     "name": "stdout",
     "output_type": "stream",
     "text": [
      "Enter a number:12\n",
      "Given number is EVEN\n",
      "Enter a number:123\n",
      "Given number is ODD\n",
      "Enter a number:123.4\n",
      "Enter numbers only\n"
     ]
    }
   ],
   "source": [
    "def check_odd():\n",
    "    n=input(\"Enter a number:\")\n",
    "    if n.isdigit():\n",
    "        if int(n)%2==0:\n",
    "            print(\"Given number is EVEN\")\n",
    "        else:\n",
    "            print(\"Given number is ODD\")\n",
    "    else:\n",
    "        print(\"Enter numbers only\")\n",
    "\n",
    "\n",
    "check_odd()\n",
    "\n",
    "check_odd()\n",
    "\n",
    "check_odd()"
   ]
  },
  {
   "cell_type": "markdown",
   "id": "43a65ea1",
   "metadata": {},
   "source": [
    "# Task-2"
   ]
  },
  {
   "cell_type": "markdown",
   "id": "2a176c68",
   "metadata": {},
   "source": [
    "### Take input from the user and check if the number is a complex number. a complex number is the sum of a real number and an imaginary number. For example: 5+2i"
   ]
  },
  {
   "cell_type": "code",
   "execution_count": 2,
   "id": "01560581",
   "metadata": {},
   "outputs": [
    {
     "name": "stdout",
     "output_type": "stream",
     "text": [
      "Enter a complex number:2\n",
      "\n",
      "Given number is not a complex number\n",
      "Enter a complex number:3j\n",
      "\n",
      "Given number is a complex number\n",
      "Enter a complex number:3+j\n",
      "name 'j' is not defined It's not a complex nummber\n",
      "Enter a complex number:3+2j\n",
      "\n",
      "Given number is a complex number\n"
     ]
    }
   ],
   "source": [
    "import numpy as np\n",
    "def check_complex():\n",
    "    c=input(\"Enter a complex number:\")\n",
    "    try:\n",
    "        if np.iscomplex(eval(c)):\n",
    "            print(\"\\nGiven number is a complex number\")\n",
    "        else:\n",
    "            print(\"\\nGiven number is not a complex number\")\n",
    "    except Exception as er:\n",
    "        print(er,\"It's not a complex nummber\")\n",
    "\n",
    "check_complex()\n",
    "check_complex()\n",
    "check_complex()\n",
    "check_complex()\n",
    "    \n"
   ]
  },
  {
   "cell_type": "markdown",
   "id": "62a31fd1",
   "metadata": {},
   "source": [
    "# Task-3"
   ]
  },
  {
   "cell_type": "markdown",
   "id": "881155f7",
   "metadata": {},
   "source": [
    "### Create a program to enter marks from the user out of 100 and display grades as per the following 90-100 (A), 75 to 90 (B), 60 to 75 (C), 45 to 60 (D), 33 to 45 (E) and remaining all are F."
   ]
  },
  {
   "cell_type": "code",
   "execution_count": 3,
   "id": "ab06b891",
   "metadata": {},
   "outputs": [
    {
     "name": "stdout",
     "output_type": "stream",
     "text": [
      "Enter marks: 101\n",
      "Enter marks out of '100' only\n",
      "Enter marks: 99\n",
      "Grade: 'A'\n",
      "Enter marks: 55\n",
      "Grade: 'D'\n",
      "Enter marks: 32\n",
      "Grade: 'F'\n"
     ]
    }
   ],
   "source": [
    "def mark_grade():\n",
    "    i=int(eval(input(\"Enter marks: \")))\n",
    "    if i>100:\n",
    "        print(\"Enter marks out of '100' only\")\n",
    "    elif 100>=i>=90:\n",
    "        print(\"Grade: 'A'\")\n",
    "    elif 90>i>=75:\n",
    "        print(\"Grade: 'B'\")\n",
    "    elif 75>i>=60:\n",
    "        print(\"Grade: 'C'\")\n",
    "    elif 60>i>=45:\n",
    "        print(\"Grade: 'D'\")\n",
    "    elif 45>i>=33:\n",
    "        print(\"Grade: 'E'\")\n",
    "    else:\n",
    "        print(\"Grade: 'F'\")\n",
    "        \n",
    "mark_grade()\n",
    "mark_grade()\n",
    "mark_grade()\n",
    "mark_grade()"
   ]
  },
  {
   "cell_type": "markdown",
   "id": "69d01508",
   "metadata": {},
   "source": [
    "# Task-4"
   ]
  },
  {
   "cell_type": "markdown",
   "id": "8fb5e4c3",
   "metadata": {},
   "source": [
    "### Say three integers have been given. Determine how many of them are equal to each other. Create a program to print 3 (if all 3 are same), 2 (if 2 are same) and 0 (if all numbers are different)"
   ]
  },
  {
   "cell_type": "code",
   "execution_count": 4,
   "id": "e2c11cdc",
   "metadata": {},
   "outputs": [],
   "source": [
    "def equal_no():\n",
    "    n1=int(eval(input(\"Enter your 1st integer:\")))\n",
    "    n2=int(eval(input(\"Enter your 2nd integer:\")))\n",
    "    n3=int(eval(input(\"Enter your 3rd integer:\")))\n",
    "    if n1==n2==n3:\n",
    "        print('3')\n",
    "    elif n1==n2 or n2==n3 or n3==n1:\n",
    "        print('2')\n",
    "    else:\n",
    "        print('0')"
   ]
  },
  {
   "cell_type": "code",
   "execution_count": 5,
   "id": "920240e6",
   "metadata": {},
   "outputs": [
    {
     "name": "stdout",
     "output_type": "stream",
     "text": [
      "Enter your 1st integer:12\n",
      "Enter your 2nd integer:12\n",
      "Enter your 3rd integer:12\n",
      "3\n"
     ]
    }
   ],
   "source": [
    "equal_no()"
   ]
  },
  {
   "cell_type": "code",
   "execution_count": 6,
   "id": "eeb05d4f",
   "metadata": {},
   "outputs": [
    {
     "name": "stdout",
     "output_type": "stream",
     "text": [
      "Enter your 1st integer:12\n",
      "Enter your 2nd integer:12\n",
      "Enter your 3rd integer:2\n",
      "2\n"
     ]
    }
   ],
   "source": [
    "equal_no()"
   ]
  },
  {
   "cell_type": "code",
   "execution_count": 7,
   "id": "6fae5321",
   "metadata": {},
   "outputs": [
    {
     "name": "stdout",
     "output_type": "stream",
     "text": [
      "Enter your 1st integer:1\n",
      "Enter your 2nd integer:2\n",
      "Enter your 3rd integer:3\n",
      "0\n"
     ]
    }
   ],
   "source": [
    "equal_no()"
   ]
  },
  {
   "cell_type": "markdown",
   "id": "1ae95d8f",
   "metadata": {},
   "source": [
    "# Task-5"
   ]
  },
  {
   "cell_type": "markdown",
   "id": "a18e6241",
   "metadata": {},
   "source": [
    "### A truck runs a distance of N kms per day. Write a program to calculate how many days will be taken to cover M kms."
   ]
  },
  {
   "cell_type": "code",
   "execution_count": 8,
   "id": "cc78cd7c",
   "metadata": {},
   "outputs": [],
   "source": [
    "def no_of_days():\n",
    "    kms=int(eval(input(\"Enter 'kms per day'\")))\n",
    "    d=int(eval(input(\"Enter the Distance: \")))\n",
    "    print(\"The required days to reach the distance:\",round(d/kms,1))"
   ]
  },
  {
   "cell_type": "code",
   "execution_count": 9,
   "id": "0114b142",
   "metadata": {},
   "outputs": [
    {
     "name": "stdout",
     "output_type": "stream",
     "text": [
      "Enter 'kms per day'40\n",
      "Enter the Distance: 400\n",
      "The required days to reach the distance: 10.0\n"
     ]
    }
   ],
   "source": [
    "no_of_days()"
   ]
  },
  {
   "cell_type": "code",
   "execution_count": 10,
   "id": "9b425580",
   "metadata": {},
   "outputs": [
    {
     "name": "stdout",
     "output_type": "stream",
     "text": [
      "Enter 'kms per day'30\n",
      "Enter the Distance: 400\n",
      "The required days to reach the distance: 13.3\n"
     ]
    }
   ],
   "source": [
    "no_of_days()"
   ]
  },
  {
   "cell_type": "markdown",
   "id": "db2b3a2f",
   "metadata": {},
   "source": [
    "# Task-6"
   ]
  },
  {
   "cell_type": "markdown",
   "id": "9e1dc7f3",
   "metadata": {},
   "source": [
    "### Pass your name, surname, phone_no, hobbies in a python script and get all the passed values in a line without space."
   ]
  },
  {
   "cell_type": "code",
   "execution_count": 11,
   "id": "a77dc296",
   "metadata": {},
   "outputs": [],
   "source": [
    "def intr():\n",
    "    name=\"sree\"\n",
    "    surname=\"k\"\n",
    "    phone_no=\"9876543210\"\n",
    "    hobbies=\"reading\"\n",
    "    return name+surname+phone_no+hobbies"
   ]
  },
  {
   "cell_type": "code",
   "execution_count": 12,
   "id": "0cab47bb",
   "metadata": {},
   "outputs": [
    {
     "data": {
      "text/plain": [
       "'sreek9876543210reading'"
      ]
     },
     "execution_count": 12,
     "metadata": {},
     "output_type": "execute_result"
    }
   ],
   "source": [
    "intr()"
   ]
  },
  {
   "cell_type": "markdown",
   "id": "430588e0",
   "metadata": {},
   "source": [
    "# Task-7"
   ]
  },
  {
   "cell_type": "markdown",
   "id": "c3f69eee",
   "metadata": {},
   "source": [
    "### Write a python script to\n",
    "    a. separate 2,3,6 characters from your ID.\n",
    "    b. To print character 2 to 5 in your name and surname.\n",
    "    c. Print all the characters of your name and surname"
   ]
  },
  {
   "cell_type": "code",
   "execution_count": 13,
   "id": "4eca7422",
   "metadata": {},
   "outputs": [],
   "source": [
    "def slic():\n",
    "    nam,sur,ID=input(\"Enter your name,surname and ID seperate by space:\").split()\n",
    "    print(f\"The 2,3,6, characters from your ID are:\\n{ID[1]}\\n{ID[2]}\\n{ID[5]}\")\n",
    "    print(f\"Characters 2 to 5 in your name are:\\n{nam[1:5]}\\nCharacters 2 to 5 in your surname are:\\n{sur[1:5]}\")\n",
    "    print(f\"All characters in your name and surname are:\\n {list(nam+sur)}\")\n",
    "    print(f\"All unique characters in your name and surname are:\\n {set(nam+sur)}\")"
   ]
  },
  {
   "cell_type": "code",
   "execution_count": 14,
   "id": "eadac5fa",
   "metadata": {},
   "outputs": [
    {
     "name": "stdout",
     "output_type": "stream",
     "text": [
      "Enter your name,surname and ID seperate by space:chriss hemsworth DIRSS2105\n",
      "The 2,3,6, characters from your ID are:\n",
      "I\n",
      "R\n",
      "2\n",
      "Characters 2 to 5 in your name are:\n",
      "hris\n",
      "Characters 2 to 5 in your surname are:\n",
      "emsw\n",
      "All characters in your name and surname are:\n",
      " ['c', 'h', 'r', 'i', 's', 's', 'h', 'e', 'm', 's', 'w', 'o', 'r', 't', 'h']\n",
      "All unique characters in your name and surname are:\n",
      " {'s', 'h', 'i', 'm', 'o', 'r', 'w', 'c', 't', 'e'}\n"
     ]
    }
   ],
   "source": [
    "slic()"
   ]
  },
  {
   "cell_type": "markdown",
   "id": "7e7dec00",
   "metadata": {},
   "source": [
    "# Task-8"
   ]
  },
  {
   "cell_type": "markdown",
   "id": "57de29b0",
   "metadata": {},
   "source": [
    "### Write your short introduction in a text file. Your introduction consists of Name, Id, contact number, Address, Stream, Joining date, Qualification, Hobbies, Strength and weakness. Pass this file to python. Your task is to calculate total characters, numbers, words and lines used in this introduction file."
   ]
  },
  {
   "cell_type": "code",
   "execution_count": 15,
   "id": "2a68a29e",
   "metadata": {},
   "outputs": [],
   "source": [
    "with open(\"data.txt\",\"w\") as intr:\n",
    "    intr.write(\"\"\"My name is sree with Id DIRSS2105\n",
    "    contact number is 9876543210\n",
    "    address is anantapur\n",
    "    stream mechanical\n",
    "    joining date 27/11/2021\n",
    "    qualification is btech\n",
    "    hobbies are reading and blogging\n",
    "    strengths are positive thinking,self motivation\n",
    "    weaknesses are unable to concentrate in various things at a time\"\"\")\n"
   ]
  },
  {
   "cell_type": "code",
   "execution_count": 16,
   "id": "76af1fad",
   "metadata": {},
   "outputs": [
    {
     "name": "stdout",
     "output_type": "stream",
     "text": [
      "The no.of lines in file:  9\n",
      "The no.of words in 1 line are 7\n",
      "The no.of words in 2 line are 4\n",
      "The no.of words in 3 line are 3\n",
      "The no.of words in 4 line are 2\n",
      "The no.of words in 5 line are 3\n",
      "The no.of words in 6 line are 3\n",
      "The no.of words in 7 line are 5\n",
      "The no.of words in 8 line are 5\n",
      "The no.of words in 9 line are 11\n",
      "Total no.of characters in file are : 227 \n",
      "Total no.of numbers in file are : 22\n",
      "The total no.of words in entire file: 43\n"
     ]
    }
   ],
   "source": [
    "op=open(\"data.txt\")\n",
    "lines=op.readlines()\n",
    "char,numb,words=0,0,0\n",
    "print(\"The no.of lines in file: \",len(lines))\n",
    "for line,m in zip(lines,range(len(lines))):\n",
    "    words+=len(line.split())\n",
    "    print(f\"The no.of words in {m+1} line are {len(line.split())}\")\n",
    "    for key in line:\n",
    "        if key.isalpha():\n",
    "            char+=1\n",
    "        if key.isnumeric():\n",
    "            numb+=1\n",
    "print(f\"Total no.of characters in file are : {char} \\nTotal no.of numbers in file are : {numb}\")\n",
    "print(f\"The total no.of words in entire file: {words}\")\n",
    "op.close()"
   ]
  },
  {
   "cell_type": "markdown",
   "id": "1d9b7da6",
   "metadata": {},
   "source": [
    "# Task-9"
   ]
  },
  {
   "cell_type": "markdown",
   "id": "98178327",
   "metadata": {},
   "source": [
    "### Create a function that performs division of numbers. Since divide by zero gives an infinite so if a number which is denominator and 0 must give an exception while performing division operation."
   ]
  },
  {
   "cell_type": "code",
   "execution_count": null,
   "id": "28ecb21f",
   "metadata": {},
   "outputs": [],
   "source": []
  },
  {
   "cell_type": "code",
   "execution_count": 17,
   "id": "8a408aea",
   "metadata": {},
   "outputs": [],
   "source": [
    "def divide():\n",
    "    nume,denom=input(\"Enter numerator and denominator values:\").split()\n",
    "    try:\n",
    "        return int(nume)/int(denom)\n",
    "    except ZeroDivisionError as error:\n",
    "        return f\"Inifinity will be solution for  {error}\""
   ]
  },
  {
   "cell_type": "code",
   "execution_count": 18,
   "id": "601e716a",
   "metadata": {},
   "outputs": [
    {
     "name": "stdout",
     "output_type": "stream",
     "text": [
      "Enter numerator and denominator values:12 2\n",
      "Enter numerator and denominator values:12 0\n"
     ]
    },
    {
     "data": {
      "text/plain": [
       "'Inifinity will be solution for  division by zero'"
      ]
     },
     "execution_count": 18,
     "metadata": {},
     "output_type": "execute_result"
    }
   ],
   "source": [
    "divide()\n",
    "divide()\n"
   ]
  },
  {
   "cell_type": "markdown",
   "id": "73c77ac6",
   "metadata": {},
   "source": [
    "# Task-10"
   ]
  },
  {
   "cell_type": "markdown",
   "id": "8be8fbad",
   "metadata": {},
   "source": [
    "### Create a file in read only mode. Open this file using python and try to write your contact number in that file. As this file is write protected so an exception should occur. Handle this exception using python script."
   ]
  },
  {
   "cell_type": "code",
   "execution_count": 19,
   "id": "05d04906",
   "metadata": {},
   "outputs": [
    {
     "name": "stdout",
     "output_type": "stream",
     "text": [
      "This file is not writable\n"
     ]
    }
   ],
   "source": [
    "fil=open(\"data.txt\",\"r\")\n",
    "try:\n",
    "    fil.write(\"is it possible?  yes and you did it.\")\n",
    "except Exception as err:\n",
    "    print(f\"This file is {err}\")"
   ]
  },
  {
   "cell_type": "markdown",
   "id": "de0119fe",
   "metadata": {},
   "source": [
    "# Task-11"
   ]
  },
  {
   "cell_type": "markdown",
   "id": "129df7a9",
   "metadata": {},
   "source": [
    "### Create an html generator class using:\n",
    "    a. A base class with a couple methods\n",
    "    b. Subclass overriding class attributes\n",
    "    c. Subclass overriding a method\n",
    "    d. Subclass overriding the ___init__"
   ]
  },
  {
   "cell_type": "code",
   "execution_count": 20,
   "id": "702129cc",
   "metadata": {},
   "outputs": [
    {
     "name": "stdout",
     "output_type": "stream",
     "text": [
      "You're in html_generator\n",
      "HEAD\n",
      "This Is The Body\n",
      "I'm the class html\n",
      "['this', 'is', 'the', 'first', 'para']\n",
      "\n",
      "\n",
      "\n",
      "You're in css\n",
      "I'm in subclass css\n",
      "THISTHIS\n"
     ]
    }
   ],
   "source": [
    "class html_generator():\n",
    "    html=\"I'm the class html\"\n",
    "    def __init__(self):\n",
    "        print(\"You're in html_generator\")\n",
    "    def header(self,head):\n",
    "        print(head.upper())\n",
    "    def body(self,bod):\n",
    "        return bod.title()\n",
    "    def p01(self,para):\n",
    "        return para.split()\n",
    "\n",
    "    \n",
    "class css(html_generator):\n",
    "    html=\"I'm in subclass css\"\n",
    "    def __init__(self):\n",
    "        print(\"You're in css\")\n",
    "    def header(self,head):\n",
    "        return ((head.upper())*2)\n",
    "        \n",
    "    \n",
    "\n",
    "data=html_generator()\n",
    "data.header(\"head\")\n",
    "print(data.body(\"this is the body\"))\n",
    "print(data.html)\n",
    "print(data.p01(\"this is the first para\"))\n",
    "\n",
    "print(\"\\n\"*2)\n",
    "dat=css()\n",
    "print(css.html)\n",
    "print(dat.header(\"This\"))"
   ]
  },
  {
   "cell_type": "code",
   "execution_count": null,
   "id": "e220a956",
   "metadata": {},
   "outputs": [],
   "source": []
  },
  {
   "cell_type": "markdown",
   "id": "5b5d7e16",
   "metadata": {},
   "source": [
    "# Task-12"
   ]
  },
  {
   "cell_type": "markdown",
   "id": "a4260d5b",
   "metadata": {},
   "source": [
    "### Create an html generator class using:\n",
    "    a. A base class with a couple methods\n",
    "    b. Subclass overriding class attributes\n",
    "    c. Subclass overriding a method\n",
    "    d. Subclass overriding the ___init__"
   ]
  },
  {
   "cell_type": "code",
   "execution_count": 21,
   "id": "2cab42db",
   "metadata": {},
   "outputs": [
    {
     "name": "stdout",
     "output_type": "stream",
     "text": [
      "You're in html_generator\n",
      "HEAD\n",
      "This Is The Body\n",
      "I'm the class html\n",
      "['this', 'is', 'the', 'first', 'para']\n",
      "\n",
      "\n",
      "\n",
      "You're in css\n",
      "I'm in subclass css\n",
      "THISTHIS\n"
     ]
    }
   ],
   "source": [
    "class html_generator():\n",
    "    html=\"I'm the class html\"\n",
    "    def __init__(self):\n",
    "        print(\"You're in html_generator\")\n",
    "    def header(self,head):\n",
    "        print(head.upper())\n",
    "    def body(self,bod):\n",
    "        return bod.title()\n",
    "    def p01(self,para):\n",
    "        return para.split()\n",
    "\n",
    "    \n",
    "class css(html_generator):\n",
    "    html=\"I'm in subclass css\"\n",
    "    def __init__(self):\n",
    "        print(\"You're in css\")\n",
    "    def header(self,head):\n",
    "        return ((head.upper())*2)\n",
    "        \n",
    "    \n",
    "\n",
    "data=html_generator()\n",
    "data.header(\"head\")\n",
    "print(data.body(\"this is the body\"))\n",
    "print(data.html)\n",
    "print(data.p01(\"this is the first para\"))\n",
    "\n",
    "print(\"\\n\"*2)\n",
    "dat=css()\n",
    "print(css.html)\n",
    "print(dat.header(\"This\"))"
   ]
  }
 ],
 "metadata": {
  "kernelspec": {
   "display_name": "Python 3",
   "language": "python",
   "name": "python3"
  },
  "language_info": {
   "codemirror_mode": {
    "name": "ipython",
    "version": 3
   },
   "file_extension": ".py",
   "mimetype": "text/x-python",
   "name": "python",
   "nbconvert_exporter": "python",
   "pygments_lexer": "ipython3",
   "version": "3.8.8"
  }
 },
 "nbformat": 4,
 "nbformat_minor": 5
}
