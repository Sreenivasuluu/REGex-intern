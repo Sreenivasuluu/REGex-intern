{
 "cells": [
  {
   "cell_type": "markdown",
   "id": "3b3ff2d1",
   "metadata": {},
   "source": [
    "# Task-1"
   ]
  },
  {
   "cell_type": "markdown",
   "id": "557c730b",
   "metadata": {},
   "source": [
    "### Program for checking polindrome without SLICING"
   ]
  },
  {
   "cell_type": "code",
   "execution_count": 1,
   "id": "b64ee297",
   "metadata": {
    "scrolled": true
   },
   "outputs": [
    {
     "name": "stdout",
     "output_type": "stream",
     "text": [
      "Enter a word : \n",
      "asa\n",
      "Your word is a Polindrome\n"
     ]
    }
   ],
   "source": [
    "p = input('Enter a word : \\n').upper().strip()\n",
    "pas = 0\n",
    "l = len(p) // 2\n",
    "for i in range(l):\n",
    "    if p[i] == p[-i - 1]:\n",
    "        pas += 1\n",
    "if pas == l:\n",
    "    print('Your word is a Polindrome')\n",
    "else:\n",
    "    print('NOt a Polindrome')"
   ]
  },
  {
   "cell_type": "markdown",
   "id": "9f523d5e",
   "metadata": {},
   "source": [
    "# Task-2"
   ]
  },
  {
   "cell_type": "markdown",
   "id": "e070f41b",
   "metadata": {},
   "source": [
    "### Program for checking Polindrome with SLICING"
   ]
  },
  {
   "cell_type": "code",
   "execution_count": 2,
   "id": "3c403d1b",
   "metadata": {},
   "outputs": [
    {
     "name": "stdout",
     "output_type": "stream",
     "text": [
      "Enter a word : \n",
      "asa\n",
      "Your word is a Polindrome\n"
     ]
    }
   ],
   "source": [
    "p = input('Enter a word : \\n').upper().strip()\n",
    "if p == p[-1::-1]:\n",
    "    print('Your word is a Polindrome')\n",
    "else:\n",
    "    print('NOt a Polindrome')     "
   ]
  },
  {
   "cell_type": "code",
   "execution_count": null,
   "id": "ee60520e",
   "metadata": {},
   "outputs": [],
   "source": []
  },
  {
   "cell_type": "code",
   "execution_count": null,
   "id": "3c382103",
   "metadata": {},
   "outputs": [],
   "source": []
  }
 ],
 "metadata": {
  "kernelspec": {
   "display_name": "Python 3",
   "language": "python",
   "name": "python3"
  },
  "language_info": {
   "codemirror_mode": {
    "name": "ipython",
    "version": 3
   },
   "file_extension": ".py",
   "mimetype": "text/x-python",
   "name": "python",
   "nbconvert_exporter": "python",
   "pygments_lexer": "ipython3",
   "version": "3.8.8"
  }
 },
 "nbformat": 4,
 "nbformat_minor": 5
}
