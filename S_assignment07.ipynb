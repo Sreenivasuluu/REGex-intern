{
 "cells": [
  {
   "cell_type": "markdown",
   "id": "33e96159",
   "metadata": {},
   "source": [
    "# Task 1 "
   ]
  },
  {
   "cell_type": "markdown",
   "id": "2a2ead5d",
   "metadata": {},
   "source": [
    "# Program for Password validation"
   ]
  },
  {
   "cell_type": "code",
   "execution_count": 1,
   "id": "f72eb1ea",
   "metadata": {},
   "outputs": [
    {
     "name": "stdout",
     "output_type": "stream",
     "text": [
      "Enter your password :\n",
      "Sderfr2@\n",
      "Your Password is accepted \n"
     ]
    }
   ],
   "source": [
    "l=u=p=d=0\n",
    "s = input('Enter your password :\\n')\n",
    "if (16 >= len(s) >= 5):\n",
    "    for i in s:\n",
    "        if (i.islower()):\n",
    "            l+=1 \n",
    "        if (i.isupper()):\n",
    "            u+=1    \n",
    "        if (i.isdigit()):\n",
    "            d+=1     \n",
    "        if(i=='@'or i=='$' or i=='#' or i =='&'):\n",
    "            p+=1           \n",
    "if (l>=1 and u>=1 and p>=1 and d>=1 and l+p+u+d==len(s)):\n",
    "    print(\"Your Password is accepted \")\n",
    "else:\n",
    "    print(\"Invalid Password,Try another one.\")\n"
   ]
  },
  {
   "cell_type": "markdown",
   "id": "1e56e792",
   "metadata": {},
   "source": [
    "# Task 2 "
   ]
  },
  {
   "cell_type": "markdown",
   "id": "f2c2d802",
   "metadata": {},
   "source": [
    "# Program to check the length of string"
   ]
  },
  {
   "cell_type": "code",
   "execution_count": 2,
   "id": "53183d54",
   "metadata": {},
   "outputs": [
    {
     "name": "stdout",
     "output_type": "stream",
     "text": [
      "Enter a string : \n",
      "vdsbvfdjs\n",
      "You entered a string of length 9\n"
     ]
    }
   ],
   "source": [
    "# Take input from user \n",
    "\n",
    "strn = input('Enter a string : \\n')\n",
    "\n",
    "# Simple if statement\n",
    "\n",
    "if len(strn) <= 10:\n",
    "    print('You entered a string of length {}'.format(len(strn)))\n",
    "elif len(strn) >= 11:\n",
    "    print('Your string length is greater than TEN which is',len(strn))"
   ]
  },
  {
   "cell_type": "code",
   "execution_count": null,
   "id": "1122bcb0",
   "metadata": {},
   "outputs": [],
   "source": []
  }
 ],
 "metadata": {
  "kernelspec": {
   "display_name": "Python 3",
   "language": "python",
   "name": "python3"
  },
  "language_info": {
   "codemirror_mode": {
    "name": "ipython",
    "version": 3
   },
   "file_extension": ".py",
   "mimetype": "text/x-python",
   "name": "python",
   "nbconvert_exporter": "python",
   "pygments_lexer": "ipython3",
   "version": "3.8.8"
  }
 },
 "nbformat": 4,
 "nbformat_minor": 5
}
