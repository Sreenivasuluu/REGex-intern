{
 "cells": [
  {
   "cell_type": "code",
   "execution_count": 24,
   "id": "cf5e1779",
   "metadata": {
    "scrolled": true
   },
   "outputs": [
    {
     "name": "stdout",
     "output_type": "stream",
     "text": [
      "Enter the student name :sree\n",
      "Enter the marks:52\n",
      "Enter the marks:50\n",
      "Enter the marks:56\n",
      "Enter the marks:54\n",
      "Enter the marks:58\n",
      "Student name :sree \n",
      "Total marks:270 \n",
      "Average marks:54.0\n"
     ]
    }
   ],
   "source": [
    "# Assign1 \n",
    "\n",
    "## Ask for the student name\n",
    "name = input('Enter the student name :',)\n",
    "\n",
    "## Accept .. Student details with 5 marks \n",
    "_1 = int(input('Enter the marks:',))\n",
    "_2 = int(input('Enter the marks:',))\n",
    "\n",
    "\n",
    "_3 = int(input('Enter the marks:',))\n",
    "_4 = int(input('Enter the marks:',))\n",
    "_5 = int(input('Enter the marks:',))\n",
    "\n",
    "\n",
    "## calculate Total \n",
    "\n",
    "\n",
    "total = _1+_2+_3+_4+_5\n",
    "## calculate Average \n",
    "avg = int(total)/5\n",
    "\t\n",
    "## Display total and average along with all student details\n",
    "\n",
    "print('Student name :{} \\nTotal marks:{} \\nAverage marks:{}'.format(name,total,avg))\n",
    "##-------------------------------------------------------------------"
   ]
  },
  {
   "cell_type": "code",
   "execution_count": 25,
   "id": "328427cf",
   "metadata": {
    "scrolled": true
   },
   "outputs": [
    {
     "name": "stdout",
     "output_type": "stream",
     "text": [
      "Enter the first number:25\n",
      "Enter the second number:54\n",
      "Enter the third number:52\n",
      "Addition of values:131 \n",
      "Substraction of values:-81 \n",
      "Multiplication of values:70200\n"
     ]
    }
   ],
   "source": [
    "# Assign2\n",
    "\n",
    "##Accept 3 numbers from user \n",
    "\n",
    "one = int(input('Enter the first number:'))\n",
    "two = int(input('Enter the second number:'))\n",
    "three = int(input('Enter the third number:'))\n",
    "\n",
    "\n",
    " \n",
    "## Calculate Addition , Subtraction and Multiplication\n",
    "\n",
    "add = one+two+three\n",
    "minus = one-two-three\n",
    "multiply = one*two*three\n",
    "\n",
    "##printing the values\n",
    "\n",
    "print('Addition of values:{} \\nSubstraction of values:{} \\nMultiplication of values:{}'.format(add,minus,multiply))\n",
    "##---------------------------------------------------------------------"
   ]
  },
  {
   "cell_type": "code",
   "execution_count": 26,
   "id": "71f37ab9",
   "metadata": {
    "scrolled": true
   },
   "outputs": [
    {
     "name": "stdout",
     "output_type": "stream",
     "text": [
      "Enter the employee name:sree\n",
      "Enter the employee role:analyst\n",
      "Enter the employee present salary P/M in rupees:45000\n",
      "Enter the experience in years:3\n",
      "Amount of salary before hike: 45000\n",
      "Amount of salary hiked: 6750.0\n",
      "Amount of salary after hike: 51750.0\n"
     ]
    }
   ],
   "source": [
    "# Assign 3\n",
    "\n",
    "##Accept employee details from user using input function like\n",
    "\n",
    "## Empname\n",
    "## Empdesg\n",
    "## Empsal\n",
    "## Empexp\n",
    "\n",
    "Empname = input('Enter the employee name:')\n",
    "Empdesg = input('Enter the employee role:')\n",
    "Empsal = int(input('Enter the employee present salary P/M in rupees:'))\n",
    "Empexp = input('Enter the experience in years:')\n",
    "\n",
    "##Calculate 15% hike to employee and total salary\n",
    "\n",
    "hike = Empsal*15/100\n",
    "total = hike+Empsal\n",
    "\n",
    "##display the salary hike value\n",
    "\n",
    "print('Amount of salary before hike:',Empsal)\n",
    "print('Amount of salary hiked:',hike)\n",
    "print('Amount of salary after hike:',total)"
   ]
  },
  {
   "cell_type": "code",
   "execution_count": null,
   "id": "0ff060d0",
   "metadata": {},
   "outputs": [],
   "source": [
    " "
   ]
  },
  {
   "cell_type": "code",
   "execution_count": null,
   "id": "10f89d19",
   "metadata": {
    "scrolled": true
   },
   "outputs": [],
   "source": []
  }
 ],
 "metadata": {
  "kernelspec": {
   "display_name": "Python 3",
   "language": "python",
   "name": "python3"
  }
 },
 "nbformat": 4,
 "nbformat_minor": 5
}
