{
 "cells": [
  {
   "cell_type": "code",
   "execution_count": 11,
   "id": "528c866f",
   "metadata": {},
   "outputs": [
    {
     "name": "stdout",
     "output_type": "stream",
     "text": [
      "Enter the four digit number from user :\n",
      "1234\n",
      "<class 'str'>\n",
      "First digit :1\n",
      "Second digit :2\n",
      "Third digit :3\n",
      "Fourth digit :4\n",
      "\n",
      "Fourth digit :4\n",
      "Third digit :3\n",
      "Second digit :2\n",
      "First digit :1\n",
      "\n",
      "The sum of all digits :  10\n"
     ]
    }
   ],
   "source": [
    "#Assign-1\n",
    "\n",
    "## Take four digit number from user\n",
    "\n",
    "num = input('Enter the four digit number from user :\\n')\n",
    "\n",
    "## print type of data\n",
    "\n",
    "print(type(num))\n",
    "\n",
    "##print the each digit from leftside to right side\n",
    "\n",
    "print('First digit :{}\\nSecond digit :{}\\nThird digit :{}\\nFourth digit :{}\\n'.format(num[0], num[1], num[2], num[3]))\n",
    "\n",
    "##print the each digit from rightside to leftside\n",
    "\n",
    "print('Fourth digit :{}\\nThird digit :{}\\nSecond digit :{}\\nFirst digit :{}\\n'.format(num[-1], num[-2], num[-3], num[-4]))\n",
    "\n",
    "## print the sum of all digits \n",
    "\n",
    "print('The sum of all digits : ' ,int(num[0])+int(num[1])+int(num[2])+int(num[3]))"
   ]
  },
  {
   "cell_type": "code",
   "execution_count": 12,
   "id": "862c1148",
   "metadata": {},
   "outputs": [
    {
     "name": "stdout",
     "output_type": "stream",
     "text": [
      "Enter your favourite fruit name :kivi\n",
      "\n",
      "The characters you entered fro your fruit name :\n",
      "\n",
      "k\n",
      "i\n",
      "v\n",
      "i\n"
     ]
    }
   ],
   "source": [
    "#Assign-2\n",
    "\n",
    "##Take a fruit name from user\n",
    "\n",
    "fruit = input('Enter your favourite fruit name :')\n",
    "\n",
    "##print the every character in fruit name\n",
    "\n",
    "print('\\nThe characters you entered fro your fruit name :\\n')\n",
    "\n",
    "for i in range(len(fruit)):\n",
    "    print(fruit[i], end = '\\n')"
   ]
  },
  {
   "cell_type": "code",
   "execution_count": 13,
   "id": "e8cd4048",
   "metadata": {},
   "outputs": [
    {
     "name": "stdout",
     "output_type": "stream",
     "text": [
      "Enter a three digit number : 325\n",
      "\n",
      "The reverse format of given digit : \n",
      "\n",
      "5\n",
      "2\n",
      "3\n"
     ]
    }
   ],
   "source": [
    "#Assign-3\n",
    "\n",
    "##Take a three digit number from user\n",
    "\n",
    "num = int(input('Enter a three digit number : '))\n",
    "\n",
    "##print the each digit in reverse order\n",
    "\n",
    "print('\\nThe reverse format of given digit : \\n')\n",
    "\n",
    "for i in range(3):\n",
    "    print(num%10)\n",
    "    num = num//10"
   ]
  },
  {
   "cell_type": "code",
   "execution_count": null,
   "id": "9af43d38",
   "metadata": {},
   "outputs": [],
   "source": []
  }
 ],
 "metadata": {
  "kernelspec": {
   "display_name": "Python 3",
   "language": "python",
   "name": "python3"
  },
  "language_info": {
   "codemirror_mode": {
    "name": "ipython",
    "version": 3
   },
   "file_extension": ".py",
   "mimetype": "text/x-python",
   "name": "python",
   "nbconvert_exporter": "python",
   "pygments_lexer": "ipython3",
   "version": "3.8.8"
  }
 },
 "nbformat": 4,
 "nbformat_minor": 5
}
